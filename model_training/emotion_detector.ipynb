{
  "nbformat": 4,
  "nbformat_minor": 0,
  "metadata": {
    "colab": {
      "provenance": [],
      "gpuType": "T4"
    },
    "kernelspec": {
      "name": "python3",
      "display_name": "Python 3"
    },
    "language_info": {
      "name": "python"
    },
    "accelerator": "GPU",
    "widgets": {
      "application/vnd.jupyter.widget-state+json": {
        "050554b5f81d456c836af90d92b25f32": {
          "model_module": "@jupyter-widgets/controls",
          "model_name": "HBoxModel",
          "model_module_version": "1.5.0",
          "state": {
            "_dom_classes": [],
            "_model_module": "@jupyter-widgets/controls",
            "_model_module_version": "1.5.0",
            "_model_name": "HBoxModel",
            "_view_count": null,
            "_view_module": "@jupyter-widgets/controls",
            "_view_module_version": "1.5.0",
            "_view_name": "HBoxView",
            "box_style": "",
            "children": [
              "IPY_MODEL_fce24763ba514ee4a589435c3b1d2e4f",
              "IPY_MODEL_df87c63ffe3145639642ad529ff0b589",
              "IPY_MODEL_18c5fcd260924209ba2bc2172f2ee214"
            ],
            "layout": "IPY_MODEL_fa760397287c40ba89bb515d8a14213c"
          }
        },
        "fce24763ba514ee4a589435c3b1d2e4f": {
          "model_module": "@jupyter-widgets/controls",
          "model_name": "HTMLModel",
          "model_module_version": "1.5.0",
          "state": {
            "_dom_classes": [],
            "_model_module": "@jupyter-widgets/controls",
            "_model_module_version": "1.5.0",
            "_model_name": "HTMLModel",
            "_view_count": null,
            "_view_module": "@jupyter-widgets/controls",
            "_view_module_version": "1.5.0",
            "_view_name": "HTMLView",
            "description": "",
            "description_tooltip": null,
            "layout": "IPY_MODEL_f80142477c7c406d82d0002a0e33c98d",
            "placeholder": "​",
            "style": "IPY_MODEL_b9b144adcc4444b4bf2846c2d5d066e1",
            "value": "tokenizer_config.json: 100%"
          }
        },
        "df87c63ffe3145639642ad529ff0b589": {
          "model_module": "@jupyter-widgets/controls",
          "model_name": "FloatProgressModel",
          "model_module_version": "1.5.0",
          "state": {
            "_dom_classes": [],
            "_model_module": "@jupyter-widgets/controls",
            "_model_module_version": "1.5.0",
            "_model_name": "FloatProgressModel",
            "_view_count": null,
            "_view_module": "@jupyter-widgets/controls",
            "_view_module_version": "1.5.0",
            "_view_name": "ProgressView",
            "bar_style": "success",
            "description": "",
            "description_tooltip": null,
            "layout": "IPY_MODEL_f4856499c0e3428198159eb36186ee4a",
            "max": 48,
            "min": 0,
            "orientation": "horizontal",
            "style": "IPY_MODEL_8f3bf5670020431dbb45627d7d45eec8",
            "value": 48
          }
        },
        "18c5fcd260924209ba2bc2172f2ee214": {
          "model_module": "@jupyter-widgets/controls",
          "model_name": "HTMLModel",
          "model_module_version": "1.5.0",
          "state": {
            "_dom_classes": [],
            "_model_module": "@jupyter-widgets/controls",
            "_model_module_version": "1.5.0",
            "_model_name": "HTMLModel",
            "_view_count": null,
            "_view_module": "@jupyter-widgets/controls",
            "_view_module_version": "1.5.0",
            "_view_name": "HTMLView",
            "description": "",
            "description_tooltip": null,
            "layout": "IPY_MODEL_5f0fe3c9b2624271a719388eefc6a444",
            "placeholder": "​",
            "style": "IPY_MODEL_183d6ea2b89344648e52609578ad418b",
            "value": " 48.0/48.0 [00:00&lt;00:00, 2.65kB/s]"
          }
        },
        "fa760397287c40ba89bb515d8a14213c": {
          "model_module": "@jupyter-widgets/base",
          "model_name": "LayoutModel",
          "model_module_version": "1.2.0",
          "state": {
            "_model_module": "@jupyter-widgets/base",
            "_model_module_version": "1.2.0",
            "_model_name": "LayoutModel",
            "_view_count": null,
            "_view_module": "@jupyter-widgets/base",
            "_view_module_version": "1.2.0",
            "_view_name": "LayoutView",
            "align_content": null,
            "align_items": null,
            "align_self": null,
            "border": null,
            "bottom": null,
            "display": null,
            "flex": null,
            "flex_flow": null,
            "grid_area": null,
            "grid_auto_columns": null,
            "grid_auto_flow": null,
            "grid_auto_rows": null,
            "grid_column": null,
            "grid_gap": null,
            "grid_row": null,
            "grid_template_areas": null,
            "grid_template_columns": null,
            "grid_template_rows": null,
            "height": null,
            "justify_content": null,
            "justify_items": null,
            "left": null,
            "margin": null,
            "max_height": null,
            "max_width": null,
            "min_height": null,
            "min_width": null,
            "object_fit": null,
            "object_position": null,
            "order": null,
            "overflow": null,
            "overflow_x": null,
            "overflow_y": null,
            "padding": null,
            "right": null,
            "top": null,
            "visibility": null,
            "width": null
          }
        },
        "f80142477c7c406d82d0002a0e33c98d": {
          "model_module": "@jupyter-widgets/base",
          "model_name": "LayoutModel",
          "model_module_version": "1.2.0",
          "state": {
            "_model_module": "@jupyter-widgets/base",
            "_model_module_version": "1.2.0",
            "_model_name": "LayoutModel",
            "_view_count": null,
            "_view_module": "@jupyter-widgets/base",
            "_view_module_version": "1.2.0",
            "_view_name": "LayoutView",
            "align_content": null,
            "align_items": null,
            "align_self": null,
            "border": null,
            "bottom": null,
            "display": null,
            "flex": null,
            "flex_flow": null,
            "grid_area": null,
            "grid_auto_columns": null,
            "grid_auto_flow": null,
            "grid_auto_rows": null,
            "grid_column": null,
            "grid_gap": null,
            "grid_row": null,
            "grid_template_areas": null,
            "grid_template_columns": null,
            "grid_template_rows": null,
            "height": null,
            "justify_content": null,
            "justify_items": null,
            "left": null,
            "margin": null,
            "max_height": null,
            "max_width": null,
            "min_height": null,
            "min_width": null,
            "object_fit": null,
            "object_position": null,
            "order": null,
            "overflow": null,
            "overflow_x": null,
            "overflow_y": null,
            "padding": null,
            "right": null,
            "top": null,
            "visibility": null,
            "width": null
          }
        },
        "b9b144adcc4444b4bf2846c2d5d066e1": {
          "model_module": "@jupyter-widgets/controls",
          "model_name": "DescriptionStyleModel",
          "model_module_version": "1.5.0",
          "state": {
            "_model_module": "@jupyter-widgets/controls",
            "_model_module_version": "1.5.0",
            "_model_name": "DescriptionStyleModel",
            "_view_count": null,
            "_view_module": "@jupyter-widgets/base",
            "_view_module_version": "1.2.0",
            "_view_name": "StyleView",
            "description_width": ""
          }
        },
        "f4856499c0e3428198159eb36186ee4a": {
          "model_module": "@jupyter-widgets/base",
          "model_name": "LayoutModel",
          "model_module_version": "1.2.0",
          "state": {
            "_model_module": "@jupyter-widgets/base",
            "_model_module_version": "1.2.0",
            "_model_name": "LayoutModel",
            "_view_count": null,
            "_view_module": "@jupyter-widgets/base",
            "_view_module_version": "1.2.0",
            "_view_name": "LayoutView",
            "align_content": null,
            "align_items": null,
            "align_self": null,
            "border": null,
            "bottom": null,
            "display": null,
            "flex": null,
            "flex_flow": null,
            "grid_area": null,
            "grid_auto_columns": null,
            "grid_auto_flow": null,
            "grid_auto_rows": null,
            "grid_column": null,
            "grid_gap": null,
            "grid_row": null,
            "grid_template_areas": null,
            "grid_template_columns": null,
            "grid_template_rows": null,
            "height": null,
            "justify_content": null,
            "justify_items": null,
            "left": null,
            "margin": null,
            "max_height": null,
            "max_width": null,
            "min_height": null,
            "min_width": null,
            "object_fit": null,
            "object_position": null,
            "order": null,
            "overflow": null,
            "overflow_x": null,
            "overflow_y": null,
            "padding": null,
            "right": null,
            "top": null,
            "visibility": null,
            "width": null
          }
        },
        "8f3bf5670020431dbb45627d7d45eec8": {
          "model_module": "@jupyter-widgets/controls",
          "model_name": "ProgressStyleModel",
          "model_module_version": "1.5.0",
          "state": {
            "_model_module": "@jupyter-widgets/controls",
            "_model_module_version": "1.5.0",
            "_model_name": "ProgressStyleModel",
            "_view_count": null,
            "_view_module": "@jupyter-widgets/base",
            "_view_module_version": "1.2.0",
            "_view_name": "StyleView",
            "bar_color": null,
            "description_width": ""
          }
        },
        "5f0fe3c9b2624271a719388eefc6a444": {
          "model_module": "@jupyter-widgets/base",
          "model_name": "LayoutModel",
          "model_module_version": "1.2.0",
          "state": {
            "_model_module": "@jupyter-widgets/base",
            "_model_module_version": "1.2.0",
            "_model_name": "LayoutModel",
            "_view_count": null,
            "_view_module": "@jupyter-widgets/base",
            "_view_module_version": "1.2.0",
            "_view_name": "LayoutView",
            "align_content": null,
            "align_items": null,
            "align_self": null,
            "border": null,
            "bottom": null,
            "display": null,
            "flex": null,
            "flex_flow": null,
            "grid_area": null,
            "grid_auto_columns": null,
            "grid_auto_flow": null,
            "grid_auto_rows": null,
            "grid_column": null,
            "grid_gap": null,
            "grid_row": null,
            "grid_template_areas": null,
            "grid_template_columns": null,
            "grid_template_rows": null,
            "height": null,
            "justify_content": null,
            "justify_items": null,
            "left": null,
            "margin": null,
            "max_height": null,
            "max_width": null,
            "min_height": null,
            "min_width": null,
            "object_fit": null,
            "object_position": null,
            "order": null,
            "overflow": null,
            "overflow_x": null,
            "overflow_y": null,
            "padding": null,
            "right": null,
            "top": null,
            "visibility": null,
            "width": null
          }
        },
        "183d6ea2b89344648e52609578ad418b": {
          "model_module": "@jupyter-widgets/controls",
          "model_name": "DescriptionStyleModel",
          "model_module_version": "1.5.0",
          "state": {
            "_model_module": "@jupyter-widgets/controls",
            "_model_module_version": "1.5.0",
            "_model_name": "DescriptionStyleModel",
            "_view_count": null,
            "_view_module": "@jupyter-widgets/base",
            "_view_module_version": "1.2.0",
            "_view_name": "StyleView",
            "description_width": ""
          }
        },
        "d2134c8d0f43496db8ea9a3125c533f5": {
          "model_module": "@jupyter-widgets/controls",
          "model_name": "HBoxModel",
          "model_module_version": "1.5.0",
          "state": {
            "_dom_classes": [],
            "_model_module": "@jupyter-widgets/controls",
            "_model_module_version": "1.5.0",
            "_model_name": "HBoxModel",
            "_view_count": null,
            "_view_module": "@jupyter-widgets/controls",
            "_view_module_version": "1.5.0",
            "_view_name": "HBoxView",
            "box_style": "",
            "children": [
              "IPY_MODEL_b96799dd498b4e19acc81ea9321221f6",
              "IPY_MODEL_74fa60c8c4814c24bb2970feb9a8f498",
              "IPY_MODEL_25523a9000fc4bb5a662c7ab72afc3cb"
            ],
            "layout": "IPY_MODEL_ef2424478654460db507dc871fa6f753"
          }
        },
        "b96799dd498b4e19acc81ea9321221f6": {
          "model_module": "@jupyter-widgets/controls",
          "model_name": "HTMLModel",
          "model_module_version": "1.5.0",
          "state": {
            "_dom_classes": [],
            "_model_module": "@jupyter-widgets/controls",
            "_model_module_version": "1.5.0",
            "_model_name": "HTMLModel",
            "_view_count": null,
            "_view_module": "@jupyter-widgets/controls",
            "_view_module_version": "1.5.0",
            "_view_name": "HTMLView",
            "description": "",
            "description_tooltip": null,
            "layout": "IPY_MODEL_5ed06dac3f864dff94820a4cdfe0b7b1",
            "placeholder": "​",
            "style": "IPY_MODEL_1c275121d2e24140a41b9f54208bc954",
            "value": "config.json: 100%"
          }
        },
        "74fa60c8c4814c24bb2970feb9a8f498": {
          "model_module": "@jupyter-widgets/controls",
          "model_name": "FloatProgressModel",
          "model_module_version": "1.5.0",
          "state": {
            "_dom_classes": [],
            "_model_module": "@jupyter-widgets/controls",
            "_model_module_version": "1.5.0",
            "_model_name": "FloatProgressModel",
            "_view_count": null,
            "_view_module": "@jupyter-widgets/controls",
            "_view_module_version": "1.5.0",
            "_view_name": "ProgressView",
            "bar_style": "success",
            "description": "",
            "description_tooltip": null,
            "layout": "IPY_MODEL_ff9bafaa360c420e9434dc1b07938af5",
            "max": 483,
            "min": 0,
            "orientation": "horizontal",
            "style": "IPY_MODEL_351b5527bcf0464a80b5333bff0b0dbe",
            "value": 483
          }
        },
        "25523a9000fc4bb5a662c7ab72afc3cb": {
          "model_module": "@jupyter-widgets/controls",
          "model_name": "HTMLModel",
          "model_module_version": "1.5.0",
          "state": {
            "_dom_classes": [],
            "_model_module": "@jupyter-widgets/controls",
            "_model_module_version": "1.5.0",
            "_model_name": "HTMLModel",
            "_view_count": null,
            "_view_module": "@jupyter-widgets/controls",
            "_view_module_version": "1.5.0",
            "_view_name": "HTMLView",
            "description": "",
            "description_tooltip": null,
            "layout": "IPY_MODEL_ef275bc30b1449cb9e6f1aeda96adac6",
            "placeholder": "​",
            "style": "IPY_MODEL_a6c18e8863b84a8ba453a4689cea41ca",
            "value": " 483/483 [00:00&lt;00:00, 28.5kB/s]"
          }
        },
        "ef2424478654460db507dc871fa6f753": {
          "model_module": "@jupyter-widgets/base",
          "model_name": "LayoutModel",
          "model_module_version": "1.2.0",
          "state": {
            "_model_module": "@jupyter-widgets/base",
            "_model_module_version": "1.2.0",
            "_model_name": "LayoutModel",
            "_view_count": null,
            "_view_module": "@jupyter-widgets/base",
            "_view_module_version": "1.2.0",
            "_view_name": "LayoutView",
            "align_content": null,
            "align_items": null,
            "align_self": null,
            "border": null,
            "bottom": null,
            "display": null,
            "flex": null,
            "flex_flow": null,
            "grid_area": null,
            "grid_auto_columns": null,
            "grid_auto_flow": null,
            "grid_auto_rows": null,
            "grid_column": null,
            "grid_gap": null,
            "grid_row": null,
            "grid_template_areas": null,
            "grid_template_columns": null,
            "grid_template_rows": null,
            "height": null,
            "justify_content": null,
            "justify_items": null,
            "left": null,
            "margin": null,
            "max_height": null,
            "max_width": null,
            "min_height": null,
            "min_width": null,
            "object_fit": null,
            "object_position": null,
            "order": null,
            "overflow": null,
            "overflow_x": null,
            "overflow_y": null,
            "padding": null,
            "right": null,
            "top": null,
            "visibility": null,
            "width": null
          }
        },
        "5ed06dac3f864dff94820a4cdfe0b7b1": {
          "model_module": "@jupyter-widgets/base",
          "model_name": "LayoutModel",
          "model_module_version": "1.2.0",
          "state": {
            "_model_module": "@jupyter-widgets/base",
            "_model_module_version": "1.2.0",
            "_model_name": "LayoutModel",
            "_view_count": null,
            "_view_module": "@jupyter-widgets/base",
            "_view_module_version": "1.2.0",
            "_view_name": "LayoutView",
            "align_content": null,
            "align_items": null,
            "align_self": null,
            "border": null,
            "bottom": null,
            "display": null,
            "flex": null,
            "flex_flow": null,
            "grid_area": null,
            "grid_auto_columns": null,
            "grid_auto_flow": null,
            "grid_auto_rows": null,
            "grid_column": null,
            "grid_gap": null,
            "grid_row": null,
            "grid_template_areas": null,
            "grid_template_columns": null,
            "grid_template_rows": null,
            "height": null,
            "justify_content": null,
            "justify_items": null,
            "left": null,
            "margin": null,
            "max_height": null,
            "max_width": null,
            "min_height": null,
            "min_width": null,
            "object_fit": null,
            "object_position": null,
            "order": null,
            "overflow": null,
            "overflow_x": null,
            "overflow_y": null,
            "padding": null,
            "right": null,
            "top": null,
            "visibility": null,
            "width": null
          }
        },
        "1c275121d2e24140a41b9f54208bc954": {
          "model_module": "@jupyter-widgets/controls",
          "model_name": "DescriptionStyleModel",
          "model_module_version": "1.5.0",
          "state": {
            "_model_module": "@jupyter-widgets/controls",
            "_model_module_version": "1.5.0",
            "_model_name": "DescriptionStyleModel",
            "_view_count": null,
            "_view_module": "@jupyter-widgets/base",
            "_view_module_version": "1.2.0",
            "_view_name": "StyleView",
            "description_width": ""
          }
        },
        "ff9bafaa360c420e9434dc1b07938af5": {
          "model_module": "@jupyter-widgets/base",
          "model_name": "LayoutModel",
          "model_module_version": "1.2.0",
          "state": {
            "_model_module": "@jupyter-widgets/base",
            "_model_module_version": "1.2.0",
            "_model_name": "LayoutModel",
            "_view_count": null,
            "_view_module": "@jupyter-widgets/base",
            "_view_module_version": "1.2.0",
            "_view_name": "LayoutView",
            "align_content": null,
            "align_items": null,
            "align_self": null,
            "border": null,
            "bottom": null,
            "display": null,
            "flex": null,
            "flex_flow": null,
            "grid_area": null,
            "grid_auto_columns": null,
            "grid_auto_flow": null,
            "grid_auto_rows": null,
            "grid_column": null,
            "grid_gap": null,
            "grid_row": null,
            "grid_template_areas": null,
            "grid_template_columns": null,
            "grid_template_rows": null,
            "height": null,
            "justify_content": null,
            "justify_items": null,
            "left": null,
            "margin": null,
            "max_height": null,
            "max_width": null,
            "min_height": null,
            "min_width": null,
            "object_fit": null,
            "object_position": null,
            "order": null,
            "overflow": null,
            "overflow_x": null,
            "overflow_y": null,
            "padding": null,
            "right": null,
            "top": null,
            "visibility": null,
            "width": null
          }
        },
        "351b5527bcf0464a80b5333bff0b0dbe": {
          "model_module": "@jupyter-widgets/controls",
          "model_name": "ProgressStyleModel",
          "model_module_version": "1.5.0",
          "state": {
            "_model_module": "@jupyter-widgets/controls",
            "_model_module_version": "1.5.0",
            "_model_name": "ProgressStyleModel",
            "_view_count": null,
            "_view_module": "@jupyter-widgets/base",
            "_view_module_version": "1.2.0",
            "_view_name": "StyleView",
            "bar_color": null,
            "description_width": ""
          }
        },
        "ef275bc30b1449cb9e6f1aeda96adac6": {
          "model_module": "@jupyter-widgets/base",
          "model_name": "LayoutModel",
          "model_module_version": "1.2.0",
          "state": {
            "_model_module": "@jupyter-widgets/base",
            "_model_module_version": "1.2.0",
            "_model_name": "LayoutModel",
            "_view_count": null,
            "_view_module": "@jupyter-widgets/base",
            "_view_module_version": "1.2.0",
            "_view_name": "LayoutView",
            "align_content": null,
            "align_items": null,
            "align_self": null,
            "border": null,
            "bottom": null,
            "display": null,
            "flex": null,
            "flex_flow": null,
            "grid_area": null,
            "grid_auto_columns": null,
            "grid_auto_flow": null,
            "grid_auto_rows": null,
            "grid_column": null,
            "grid_gap": null,
            "grid_row": null,
            "grid_template_areas": null,
            "grid_template_columns": null,
            "grid_template_rows": null,
            "height": null,
            "justify_content": null,
            "justify_items": null,
            "left": null,
            "margin": null,
            "max_height": null,
            "max_width": null,
            "min_height": null,
            "min_width": null,
            "object_fit": null,
            "object_position": null,
            "order": null,
            "overflow": null,
            "overflow_x": null,
            "overflow_y": null,
            "padding": null,
            "right": null,
            "top": null,
            "visibility": null,
            "width": null
          }
        },
        "a6c18e8863b84a8ba453a4689cea41ca": {
          "model_module": "@jupyter-widgets/controls",
          "model_name": "DescriptionStyleModel",
          "model_module_version": "1.5.0",
          "state": {
            "_model_module": "@jupyter-widgets/controls",
            "_model_module_version": "1.5.0",
            "_model_name": "DescriptionStyleModel",
            "_view_count": null,
            "_view_module": "@jupyter-widgets/base",
            "_view_module_version": "1.2.0",
            "_view_name": "StyleView",
            "description_width": ""
          }
        },
        "1c141f7a5741404cb78442e65226de41": {
          "model_module": "@jupyter-widgets/controls",
          "model_name": "HBoxModel",
          "model_module_version": "1.5.0",
          "state": {
            "_dom_classes": [],
            "_model_module": "@jupyter-widgets/controls",
            "_model_module_version": "1.5.0",
            "_model_name": "HBoxModel",
            "_view_count": null,
            "_view_module": "@jupyter-widgets/controls",
            "_view_module_version": "1.5.0",
            "_view_name": "HBoxView",
            "box_style": "",
            "children": [
              "IPY_MODEL_0fa2c35eccfc495ca087c09a0cb6f864",
              "IPY_MODEL_28abe172b91043c183a8c03c2f0d702a",
              "IPY_MODEL_b0b81a27c4d9461582831866c44cd643"
            ],
            "layout": "IPY_MODEL_0a5cecb4951540f88f6dc3ebc6239128"
          }
        },
        "0fa2c35eccfc495ca087c09a0cb6f864": {
          "model_module": "@jupyter-widgets/controls",
          "model_name": "HTMLModel",
          "model_module_version": "1.5.0",
          "state": {
            "_dom_classes": [],
            "_model_module": "@jupyter-widgets/controls",
            "_model_module_version": "1.5.0",
            "_model_name": "HTMLModel",
            "_view_count": null,
            "_view_module": "@jupyter-widgets/controls",
            "_view_module_version": "1.5.0",
            "_view_name": "HTMLView",
            "description": "",
            "description_tooltip": null,
            "layout": "IPY_MODEL_b4d6e4054efc475fbebdc320e6fca546",
            "placeholder": "​",
            "style": "IPY_MODEL_a3f90b26984a4b51bfdb3ac706a70bc2",
            "value": "vocab.txt: 100%"
          }
        },
        "28abe172b91043c183a8c03c2f0d702a": {
          "model_module": "@jupyter-widgets/controls",
          "model_name": "FloatProgressModel",
          "model_module_version": "1.5.0",
          "state": {
            "_dom_classes": [],
            "_model_module": "@jupyter-widgets/controls",
            "_model_module_version": "1.5.0",
            "_model_name": "FloatProgressModel",
            "_view_count": null,
            "_view_module": "@jupyter-widgets/controls",
            "_view_module_version": "1.5.0",
            "_view_name": "ProgressView",
            "bar_style": "success",
            "description": "",
            "description_tooltip": null,
            "layout": "IPY_MODEL_176010a2aa434cc092884efac7c95e6e",
            "max": 231508,
            "min": 0,
            "orientation": "horizontal",
            "style": "IPY_MODEL_38251fdcad7a46f3b95388868ff27a81",
            "value": 231508
          }
        },
        "b0b81a27c4d9461582831866c44cd643": {
          "model_module": "@jupyter-widgets/controls",
          "model_name": "HTMLModel",
          "model_module_version": "1.5.0",
          "state": {
            "_dom_classes": [],
            "_model_module": "@jupyter-widgets/controls",
            "_model_module_version": "1.5.0",
            "_model_name": "HTMLModel",
            "_view_count": null,
            "_view_module": "@jupyter-widgets/controls",
            "_view_module_version": "1.5.0",
            "_view_name": "HTMLView",
            "description": "",
            "description_tooltip": null,
            "layout": "IPY_MODEL_d5dc5d735ab64a6ea90ee3336dbf437f",
            "placeholder": "​",
            "style": "IPY_MODEL_adb33b199f124ff2812d021ba88c4d96",
            "value": " 232k/232k [00:00&lt;00:00, 11.0MB/s]"
          }
        },
        "0a5cecb4951540f88f6dc3ebc6239128": {
          "model_module": "@jupyter-widgets/base",
          "model_name": "LayoutModel",
          "model_module_version": "1.2.0",
          "state": {
            "_model_module": "@jupyter-widgets/base",
            "_model_module_version": "1.2.0",
            "_model_name": "LayoutModel",
            "_view_count": null,
            "_view_module": "@jupyter-widgets/base",
            "_view_module_version": "1.2.0",
            "_view_name": "LayoutView",
            "align_content": null,
            "align_items": null,
            "align_self": null,
            "border": null,
            "bottom": null,
            "display": null,
            "flex": null,
            "flex_flow": null,
            "grid_area": null,
            "grid_auto_columns": null,
            "grid_auto_flow": null,
            "grid_auto_rows": null,
            "grid_column": null,
            "grid_gap": null,
            "grid_row": null,
            "grid_template_areas": null,
            "grid_template_columns": null,
            "grid_template_rows": null,
            "height": null,
            "justify_content": null,
            "justify_items": null,
            "left": null,
            "margin": null,
            "max_height": null,
            "max_width": null,
            "min_height": null,
            "min_width": null,
            "object_fit": null,
            "object_position": null,
            "order": null,
            "overflow": null,
            "overflow_x": null,
            "overflow_y": null,
            "padding": null,
            "right": null,
            "top": null,
            "visibility": null,
            "width": null
          }
        },
        "b4d6e4054efc475fbebdc320e6fca546": {
          "model_module": "@jupyter-widgets/base",
          "model_name": "LayoutModel",
          "model_module_version": "1.2.0",
          "state": {
            "_model_module": "@jupyter-widgets/base",
            "_model_module_version": "1.2.0",
            "_model_name": "LayoutModel",
            "_view_count": null,
            "_view_module": "@jupyter-widgets/base",
            "_view_module_version": "1.2.0",
            "_view_name": "LayoutView",
            "align_content": null,
            "align_items": null,
            "align_self": null,
            "border": null,
            "bottom": null,
            "display": null,
            "flex": null,
            "flex_flow": null,
            "grid_area": null,
            "grid_auto_columns": null,
            "grid_auto_flow": null,
            "grid_auto_rows": null,
            "grid_column": null,
            "grid_gap": null,
            "grid_row": null,
            "grid_template_areas": null,
            "grid_template_columns": null,
            "grid_template_rows": null,
            "height": null,
            "justify_content": null,
            "justify_items": null,
            "left": null,
            "margin": null,
            "max_height": null,
            "max_width": null,
            "min_height": null,
            "min_width": null,
            "object_fit": null,
            "object_position": null,
            "order": null,
            "overflow": null,
            "overflow_x": null,
            "overflow_y": null,
            "padding": null,
            "right": null,
            "top": null,
            "visibility": null,
            "width": null
          }
        },
        "a3f90b26984a4b51bfdb3ac706a70bc2": {
          "model_module": "@jupyter-widgets/controls",
          "model_name": "DescriptionStyleModel",
          "model_module_version": "1.5.0",
          "state": {
            "_model_module": "@jupyter-widgets/controls",
            "_model_module_version": "1.5.0",
            "_model_name": "DescriptionStyleModel",
            "_view_count": null,
            "_view_module": "@jupyter-widgets/base",
            "_view_module_version": "1.2.0",
            "_view_name": "StyleView",
            "description_width": ""
          }
        },
        "176010a2aa434cc092884efac7c95e6e": {
          "model_module": "@jupyter-widgets/base",
          "model_name": "LayoutModel",
          "model_module_version": "1.2.0",
          "state": {
            "_model_module": "@jupyter-widgets/base",
            "_model_module_version": "1.2.0",
            "_model_name": "LayoutModel",
            "_view_count": null,
            "_view_module": "@jupyter-widgets/base",
            "_view_module_version": "1.2.0",
            "_view_name": "LayoutView",
            "align_content": null,
            "align_items": null,
            "align_self": null,
            "border": null,
            "bottom": null,
            "display": null,
            "flex": null,
            "flex_flow": null,
            "grid_area": null,
            "grid_auto_columns": null,
            "grid_auto_flow": null,
            "grid_auto_rows": null,
            "grid_column": null,
            "grid_gap": null,
            "grid_row": null,
            "grid_template_areas": null,
            "grid_template_columns": null,
            "grid_template_rows": null,
            "height": null,
            "justify_content": null,
            "justify_items": null,
            "left": null,
            "margin": null,
            "max_height": null,
            "max_width": null,
            "min_height": null,
            "min_width": null,
            "object_fit": null,
            "object_position": null,
            "order": null,
            "overflow": null,
            "overflow_x": null,
            "overflow_y": null,
            "padding": null,
            "right": null,
            "top": null,
            "visibility": null,
            "width": null
          }
        },
        "38251fdcad7a46f3b95388868ff27a81": {
          "model_module": "@jupyter-widgets/controls",
          "model_name": "ProgressStyleModel",
          "model_module_version": "1.5.0",
          "state": {
            "_model_module": "@jupyter-widgets/controls",
            "_model_module_version": "1.5.0",
            "_model_name": "ProgressStyleModel",
            "_view_count": null,
            "_view_module": "@jupyter-widgets/base",
            "_view_module_version": "1.2.0",
            "_view_name": "StyleView",
            "bar_color": null,
            "description_width": ""
          }
        },
        "d5dc5d735ab64a6ea90ee3336dbf437f": {
          "model_module": "@jupyter-widgets/base",
          "model_name": "LayoutModel",
          "model_module_version": "1.2.0",
          "state": {
            "_model_module": "@jupyter-widgets/base",
            "_model_module_version": "1.2.0",
            "_model_name": "LayoutModel",
            "_view_count": null,
            "_view_module": "@jupyter-widgets/base",
            "_view_module_version": "1.2.0",
            "_view_name": "LayoutView",
            "align_content": null,
            "align_items": null,
            "align_self": null,
            "border": null,
            "bottom": null,
            "display": null,
            "flex": null,
            "flex_flow": null,
            "grid_area": null,
            "grid_auto_columns": null,
            "grid_auto_flow": null,
            "grid_auto_rows": null,
            "grid_column": null,
            "grid_gap": null,
            "grid_row": null,
            "grid_template_areas": null,
            "grid_template_columns": null,
            "grid_template_rows": null,
            "height": null,
            "justify_content": null,
            "justify_items": null,
            "left": null,
            "margin": null,
            "max_height": null,
            "max_width": null,
            "min_height": null,
            "min_width": null,
            "object_fit": null,
            "object_position": null,
            "order": null,
            "overflow": null,
            "overflow_x": null,
            "overflow_y": null,
            "padding": null,
            "right": null,
            "top": null,
            "visibility": null,
            "width": null
          }
        },
        "adb33b199f124ff2812d021ba88c4d96": {
          "model_module": "@jupyter-widgets/controls",
          "model_name": "DescriptionStyleModel",
          "model_module_version": "1.5.0",
          "state": {
            "_model_module": "@jupyter-widgets/controls",
            "_model_module_version": "1.5.0",
            "_model_name": "DescriptionStyleModel",
            "_view_count": null,
            "_view_module": "@jupyter-widgets/base",
            "_view_module_version": "1.2.0",
            "_view_name": "StyleView",
            "description_width": ""
          }
        },
        "3cf66c2c12434438920a8795e4c00be5": {
          "model_module": "@jupyter-widgets/controls",
          "model_name": "HBoxModel",
          "model_module_version": "1.5.0",
          "state": {
            "_dom_classes": [],
            "_model_module": "@jupyter-widgets/controls",
            "_model_module_version": "1.5.0",
            "_model_name": "HBoxModel",
            "_view_count": null,
            "_view_module": "@jupyter-widgets/controls",
            "_view_module_version": "1.5.0",
            "_view_name": "HBoxView",
            "box_style": "",
            "children": [
              "IPY_MODEL_dc670f7088cb454fbd4f2032145891ec",
              "IPY_MODEL_91fd139cd9ce4ef3b06d3984b5320f31",
              "IPY_MODEL_6a1d9c676edf4adcb7f2db4a5ece5dcd"
            ],
            "layout": "IPY_MODEL_5db6d63d33bf4cf0a78198c8e049a35c"
          }
        },
        "dc670f7088cb454fbd4f2032145891ec": {
          "model_module": "@jupyter-widgets/controls",
          "model_name": "HTMLModel",
          "model_module_version": "1.5.0",
          "state": {
            "_dom_classes": [],
            "_model_module": "@jupyter-widgets/controls",
            "_model_module_version": "1.5.0",
            "_model_name": "HTMLModel",
            "_view_count": null,
            "_view_module": "@jupyter-widgets/controls",
            "_view_module_version": "1.5.0",
            "_view_name": "HTMLView",
            "description": "",
            "description_tooltip": null,
            "layout": "IPY_MODEL_3976ec7e0c964224a51a64e5098b44ee",
            "placeholder": "​",
            "style": "IPY_MODEL_8ce13723f5c44a39bf9e2ffc97bde95f",
            "value": "tokenizer.json: 100%"
          }
        },
        "91fd139cd9ce4ef3b06d3984b5320f31": {
          "model_module": "@jupyter-widgets/controls",
          "model_name": "FloatProgressModel",
          "model_module_version": "1.5.0",
          "state": {
            "_dom_classes": [],
            "_model_module": "@jupyter-widgets/controls",
            "_model_module_version": "1.5.0",
            "_model_name": "FloatProgressModel",
            "_view_count": null,
            "_view_module": "@jupyter-widgets/controls",
            "_view_module_version": "1.5.0",
            "_view_name": "ProgressView",
            "bar_style": "success",
            "description": "",
            "description_tooltip": null,
            "layout": "IPY_MODEL_583670db84a04e368f476f1e5f4e5164",
            "max": 466062,
            "min": 0,
            "orientation": "horizontal",
            "style": "IPY_MODEL_1dd771ad28a54990a0e7bd2c2c6b89a2",
            "value": 466062
          }
        },
        "6a1d9c676edf4adcb7f2db4a5ece5dcd": {
          "model_module": "@jupyter-widgets/controls",
          "model_name": "HTMLModel",
          "model_module_version": "1.5.0",
          "state": {
            "_dom_classes": [],
            "_model_module": "@jupyter-widgets/controls",
            "_model_module_version": "1.5.0",
            "_model_name": "HTMLModel",
            "_view_count": null,
            "_view_module": "@jupyter-widgets/controls",
            "_view_module_version": "1.5.0",
            "_view_name": "HTMLView",
            "description": "",
            "description_tooltip": null,
            "layout": "IPY_MODEL_183f1b6493c343c28c9895ccb3febde9",
            "placeholder": "​",
            "style": "IPY_MODEL_b150b346d91a4626b038319d29b15684",
            "value": " 466k/466k [00:00&lt;00:00, 29.3MB/s]"
          }
        },
        "5db6d63d33bf4cf0a78198c8e049a35c": {
          "model_module": "@jupyter-widgets/base",
          "model_name": "LayoutModel",
          "model_module_version": "1.2.0",
          "state": {
            "_model_module": "@jupyter-widgets/base",
            "_model_module_version": "1.2.0",
            "_model_name": "LayoutModel",
            "_view_count": null,
            "_view_module": "@jupyter-widgets/base",
            "_view_module_version": "1.2.0",
            "_view_name": "LayoutView",
            "align_content": null,
            "align_items": null,
            "align_self": null,
            "border": null,
            "bottom": null,
            "display": null,
            "flex": null,
            "flex_flow": null,
            "grid_area": null,
            "grid_auto_columns": null,
            "grid_auto_flow": null,
            "grid_auto_rows": null,
            "grid_column": null,
            "grid_gap": null,
            "grid_row": null,
            "grid_template_areas": null,
            "grid_template_columns": null,
            "grid_template_rows": null,
            "height": null,
            "justify_content": null,
            "justify_items": null,
            "left": null,
            "margin": null,
            "max_height": null,
            "max_width": null,
            "min_height": null,
            "min_width": null,
            "object_fit": null,
            "object_position": null,
            "order": null,
            "overflow": null,
            "overflow_x": null,
            "overflow_y": null,
            "padding": null,
            "right": null,
            "top": null,
            "visibility": null,
            "width": null
          }
        },
        "3976ec7e0c964224a51a64e5098b44ee": {
          "model_module": "@jupyter-widgets/base",
          "model_name": "LayoutModel",
          "model_module_version": "1.2.0",
          "state": {
            "_model_module": "@jupyter-widgets/base",
            "_model_module_version": "1.2.0",
            "_model_name": "LayoutModel",
            "_view_count": null,
            "_view_module": "@jupyter-widgets/base",
            "_view_module_version": "1.2.0",
            "_view_name": "LayoutView",
            "align_content": null,
            "align_items": null,
            "align_self": null,
            "border": null,
            "bottom": null,
            "display": null,
            "flex": null,
            "flex_flow": null,
            "grid_area": null,
            "grid_auto_columns": null,
            "grid_auto_flow": null,
            "grid_auto_rows": null,
            "grid_column": null,
            "grid_gap": null,
            "grid_row": null,
            "grid_template_areas": null,
            "grid_template_columns": null,
            "grid_template_rows": null,
            "height": null,
            "justify_content": null,
            "justify_items": null,
            "left": null,
            "margin": null,
            "max_height": null,
            "max_width": null,
            "min_height": null,
            "min_width": null,
            "object_fit": null,
            "object_position": null,
            "order": null,
            "overflow": null,
            "overflow_x": null,
            "overflow_y": null,
            "padding": null,
            "right": null,
            "top": null,
            "visibility": null,
            "width": null
          }
        },
        "8ce13723f5c44a39bf9e2ffc97bde95f": {
          "model_module": "@jupyter-widgets/controls",
          "model_name": "DescriptionStyleModel",
          "model_module_version": "1.5.0",
          "state": {
            "_model_module": "@jupyter-widgets/controls",
            "_model_module_version": "1.5.0",
            "_model_name": "DescriptionStyleModel",
            "_view_count": null,
            "_view_module": "@jupyter-widgets/base",
            "_view_module_version": "1.2.0",
            "_view_name": "StyleView",
            "description_width": ""
          }
        },
        "583670db84a04e368f476f1e5f4e5164": {
          "model_module": "@jupyter-widgets/base",
          "model_name": "LayoutModel",
          "model_module_version": "1.2.0",
          "state": {
            "_model_module": "@jupyter-widgets/base",
            "_model_module_version": "1.2.0",
            "_model_name": "LayoutModel",
            "_view_count": null,
            "_view_module": "@jupyter-widgets/base",
            "_view_module_version": "1.2.0",
            "_view_name": "LayoutView",
            "align_content": null,
            "align_items": null,
            "align_self": null,
            "border": null,
            "bottom": null,
            "display": null,
            "flex": null,
            "flex_flow": null,
            "grid_area": null,
            "grid_auto_columns": null,
            "grid_auto_flow": null,
            "grid_auto_rows": null,
            "grid_column": null,
            "grid_gap": null,
            "grid_row": null,
            "grid_template_areas": null,
            "grid_template_columns": null,
            "grid_template_rows": null,
            "height": null,
            "justify_content": null,
            "justify_items": null,
            "left": null,
            "margin": null,
            "max_height": null,
            "max_width": null,
            "min_height": null,
            "min_width": null,
            "object_fit": null,
            "object_position": null,
            "order": null,
            "overflow": null,
            "overflow_x": null,
            "overflow_y": null,
            "padding": null,
            "right": null,
            "top": null,
            "visibility": null,
            "width": null
          }
        },
        "1dd771ad28a54990a0e7bd2c2c6b89a2": {
          "model_module": "@jupyter-widgets/controls",
          "model_name": "ProgressStyleModel",
          "model_module_version": "1.5.0",
          "state": {
            "_model_module": "@jupyter-widgets/controls",
            "_model_module_version": "1.5.0",
            "_model_name": "ProgressStyleModel",
            "_view_count": null,
            "_view_module": "@jupyter-widgets/base",
            "_view_module_version": "1.2.0",
            "_view_name": "StyleView",
            "bar_color": null,
            "description_width": ""
          }
        },
        "183f1b6493c343c28c9895ccb3febde9": {
          "model_module": "@jupyter-widgets/base",
          "model_name": "LayoutModel",
          "model_module_version": "1.2.0",
          "state": {
            "_model_module": "@jupyter-widgets/base",
            "_model_module_version": "1.2.0",
            "_model_name": "LayoutModel",
            "_view_count": null,
            "_view_module": "@jupyter-widgets/base",
            "_view_module_version": "1.2.0",
            "_view_name": "LayoutView",
            "align_content": null,
            "align_items": null,
            "align_self": null,
            "border": null,
            "bottom": null,
            "display": null,
            "flex": null,
            "flex_flow": null,
            "grid_area": null,
            "grid_auto_columns": null,
            "grid_auto_flow": null,
            "grid_auto_rows": null,
            "grid_column": null,
            "grid_gap": null,
            "grid_row": null,
            "grid_template_areas": null,
            "grid_template_columns": null,
            "grid_template_rows": null,
            "height": null,
            "justify_content": null,
            "justify_items": null,
            "left": null,
            "margin": null,
            "max_height": null,
            "max_width": null,
            "min_height": null,
            "min_width": null,
            "object_fit": null,
            "object_position": null,
            "order": null,
            "overflow": null,
            "overflow_x": null,
            "overflow_y": null,
            "padding": null,
            "right": null,
            "top": null,
            "visibility": null,
            "width": null
          }
        },
        "b150b346d91a4626b038319d29b15684": {
          "model_module": "@jupyter-widgets/controls",
          "model_name": "DescriptionStyleModel",
          "model_module_version": "1.5.0",
          "state": {
            "_model_module": "@jupyter-widgets/controls",
            "_model_module_version": "1.5.0",
            "_model_name": "DescriptionStyleModel",
            "_view_count": null,
            "_view_module": "@jupyter-widgets/base",
            "_view_module_version": "1.2.0",
            "_view_name": "StyleView",
            "description_width": ""
          }
        },
        "f0712b0678c54a25871dcea4c09bd5d2": {
          "model_module": "@jupyter-widgets/controls",
          "model_name": "HBoxModel",
          "model_module_version": "1.5.0",
          "state": {
            "_dom_classes": [],
            "_model_module": "@jupyter-widgets/controls",
            "_model_module_version": "1.5.0",
            "_model_name": "HBoxModel",
            "_view_count": null,
            "_view_module": "@jupyter-widgets/controls",
            "_view_module_version": "1.5.0",
            "_view_name": "HBoxView",
            "box_style": "",
            "children": [
              "IPY_MODEL_72f99eff6f87453186f79a18066d089f",
              "IPY_MODEL_854d3898fc384746a6fd6f00092e7142",
              "IPY_MODEL_da9fc27651a24e19bd460c7d02999dbb"
            ],
            "layout": "IPY_MODEL_6d05a6ccdefd43adaa48c1b0762c2293"
          }
        },
        "72f99eff6f87453186f79a18066d089f": {
          "model_module": "@jupyter-widgets/controls",
          "model_name": "HTMLModel",
          "model_module_version": "1.5.0",
          "state": {
            "_dom_classes": [],
            "_model_module": "@jupyter-widgets/controls",
            "_model_module_version": "1.5.0",
            "_model_name": "HTMLModel",
            "_view_count": null,
            "_view_module": "@jupyter-widgets/controls",
            "_view_module_version": "1.5.0",
            "_view_name": "HTMLView",
            "description": "",
            "description_tooltip": null,
            "layout": "IPY_MODEL_73161d9df753481395d803684a5f22fa",
            "placeholder": "​",
            "style": "IPY_MODEL_dea8723df7cf4328a0144ae66b039119",
            "value": "Map: 100%"
          }
        },
        "854d3898fc384746a6fd6f00092e7142": {
          "model_module": "@jupyter-widgets/controls",
          "model_name": "FloatProgressModel",
          "model_module_version": "1.5.0",
          "state": {
            "_dom_classes": [],
            "_model_module": "@jupyter-widgets/controls",
            "_model_module_version": "1.5.0",
            "_model_name": "FloatProgressModel",
            "_view_count": null,
            "_view_module": "@jupyter-widgets/controls",
            "_view_module_version": "1.5.0",
            "_view_name": "ProgressView",
            "bar_style": "success",
            "description": "",
            "description_tooltip": null,
            "layout": "IPY_MODEL_99025085404f4f04bccb0e00f64e854d",
            "max": 78492,
            "min": 0,
            "orientation": "horizontal",
            "style": "IPY_MODEL_417b1b9b75f84998b11e71103d2a20ed",
            "value": 78492
          }
        },
        "da9fc27651a24e19bd460c7d02999dbb": {
          "model_module": "@jupyter-widgets/controls",
          "model_name": "HTMLModel",
          "model_module_version": "1.5.0",
          "state": {
            "_dom_classes": [],
            "_model_module": "@jupyter-widgets/controls",
            "_model_module_version": "1.5.0",
            "_model_name": "HTMLModel",
            "_view_count": null,
            "_view_module": "@jupyter-widgets/controls",
            "_view_module_version": "1.5.0",
            "_view_name": "HTMLView",
            "description": "",
            "description_tooltip": null,
            "layout": "IPY_MODEL_595b211787dc49a583483b8d762f198e",
            "placeholder": "​",
            "style": "IPY_MODEL_a186f1a4751b4f468a78455d3f50fe85",
            "value": " 78492/78492 [00:08&lt;00:00, 12231.38 examples/s]"
          }
        },
        "6d05a6ccdefd43adaa48c1b0762c2293": {
          "model_module": "@jupyter-widgets/base",
          "model_name": "LayoutModel",
          "model_module_version": "1.2.0",
          "state": {
            "_model_module": "@jupyter-widgets/base",
            "_model_module_version": "1.2.0",
            "_model_name": "LayoutModel",
            "_view_count": null,
            "_view_module": "@jupyter-widgets/base",
            "_view_module_version": "1.2.0",
            "_view_name": "LayoutView",
            "align_content": null,
            "align_items": null,
            "align_self": null,
            "border": null,
            "bottom": null,
            "display": null,
            "flex": null,
            "flex_flow": null,
            "grid_area": null,
            "grid_auto_columns": null,
            "grid_auto_flow": null,
            "grid_auto_rows": null,
            "grid_column": null,
            "grid_gap": null,
            "grid_row": null,
            "grid_template_areas": null,
            "grid_template_columns": null,
            "grid_template_rows": null,
            "height": null,
            "justify_content": null,
            "justify_items": null,
            "left": null,
            "margin": null,
            "max_height": null,
            "max_width": null,
            "min_height": null,
            "min_width": null,
            "object_fit": null,
            "object_position": null,
            "order": null,
            "overflow": null,
            "overflow_x": null,
            "overflow_y": null,
            "padding": null,
            "right": null,
            "top": null,
            "visibility": null,
            "width": null
          }
        },
        "73161d9df753481395d803684a5f22fa": {
          "model_module": "@jupyter-widgets/base",
          "model_name": "LayoutModel",
          "model_module_version": "1.2.0",
          "state": {
            "_model_module": "@jupyter-widgets/base",
            "_model_module_version": "1.2.0",
            "_model_name": "LayoutModel",
            "_view_count": null,
            "_view_module": "@jupyter-widgets/base",
            "_view_module_version": "1.2.0",
            "_view_name": "LayoutView",
            "align_content": null,
            "align_items": null,
            "align_self": null,
            "border": null,
            "bottom": null,
            "display": null,
            "flex": null,
            "flex_flow": null,
            "grid_area": null,
            "grid_auto_columns": null,
            "grid_auto_flow": null,
            "grid_auto_rows": null,
            "grid_column": null,
            "grid_gap": null,
            "grid_row": null,
            "grid_template_areas": null,
            "grid_template_columns": null,
            "grid_template_rows": null,
            "height": null,
            "justify_content": null,
            "justify_items": null,
            "left": null,
            "margin": null,
            "max_height": null,
            "max_width": null,
            "min_height": null,
            "min_width": null,
            "object_fit": null,
            "object_position": null,
            "order": null,
            "overflow": null,
            "overflow_x": null,
            "overflow_y": null,
            "padding": null,
            "right": null,
            "top": null,
            "visibility": null,
            "width": null
          }
        },
        "dea8723df7cf4328a0144ae66b039119": {
          "model_module": "@jupyter-widgets/controls",
          "model_name": "DescriptionStyleModel",
          "model_module_version": "1.5.0",
          "state": {
            "_model_module": "@jupyter-widgets/controls",
            "_model_module_version": "1.5.0",
            "_model_name": "DescriptionStyleModel",
            "_view_count": null,
            "_view_module": "@jupyter-widgets/base",
            "_view_module_version": "1.2.0",
            "_view_name": "StyleView",
            "description_width": ""
          }
        },
        "99025085404f4f04bccb0e00f64e854d": {
          "model_module": "@jupyter-widgets/base",
          "model_name": "LayoutModel",
          "model_module_version": "1.2.0",
          "state": {
            "_model_module": "@jupyter-widgets/base",
            "_model_module_version": "1.2.0",
            "_model_name": "LayoutModel",
            "_view_count": null,
            "_view_module": "@jupyter-widgets/base",
            "_view_module_version": "1.2.0",
            "_view_name": "LayoutView",
            "align_content": null,
            "align_items": null,
            "align_self": null,
            "border": null,
            "bottom": null,
            "display": null,
            "flex": null,
            "flex_flow": null,
            "grid_area": null,
            "grid_auto_columns": null,
            "grid_auto_flow": null,
            "grid_auto_rows": null,
            "grid_column": null,
            "grid_gap": null,
            "grid_row": null,
            "grid_template_areas": null,
            "grid_template_columns": null,
            "grid_template_rows": null,
            "height": null,
            "justify_content": null,
            "justify_items": null,
            "left": null,
            "margin": null,
            "max_height": null,
            "max_width": null,
            "min_height": null,
            "min_width": null,
            "object_fit": null,
            "object_position": null,
            "order": null,
            "overflow": null,
            "overflow_x": null,
            "overflow_y": null,
            "padding": null,
            "right": null,
            "top": null,
            "visibility": null,
            "width": null
          }
        },
        "417b1b9b75f84998b11e71103d2a20ed": {
          "model_module": "@jupyter-widgets/controls",
          "model_name": "ProgressStyleModel",
          "model_module_version": "1.5.0",
          "state": {
            "_model_module": "@jupyter-widgets/controls",
            "_model_module_version": "1.5.0",
            "_model_name": "ProgressStyleModel",
            "_view_count": null,
            "_view_module": "@jupyter-widgets/base",
            "_view_module_version": "1.2.0",
            "_view_name": "StyleView",
            "bar_color": null,
            "description_width": ""
          }
        },
        "595b211787dc49a583483b8d762f198e": {
          "model_module": "@jupyter-widgets/base",
          "model_name": "LayoutModel",
          "model_module_version": "1.2.0",
          "state": {
            "_model_module": "@jupyter-widgets/base",
            "_model_module_version": "1.2.0",
            "_model_name": "LayoutModel",
            "_view_count": null,
            "_view_module": "@jupyter-widgets/base",
            "_view_module_version": "1.2.0",
            "_view_name": "LayoutView",
            "align_content": null,
            "align_items": null,
            "align_self": null,
            "border": null,
            "bottom": null,
            "display": null,
            "flex": null,
            "flex_flow": null,
            "grid_area": null,
            "grid_auto_columns": null,
            "grid_auto_flow": null,
            "grid_auto_rows": null,
            "grid_column": null,
            "grid_gap": null,
            "grid_row": null,
            "grid_template_areas": null,
            "grid_template_columns": null,
            "grid_template_rows": null,
            "height": null,
            "justify_content": null,
            "justify_items": null,
            "left": null,
            "margin": null,
            "max_height": null,
            "max_width": null,
            "min_height": null,
            "min_width": null,
            "object_fit": null,
            "object_position": null,
            "order": null,
            "overflow": null,
            "overflow_x": null,
            "overflow_y": null,
            "padding": null,
            "right": null,
            "top": null,
            "visibility": null,
            "width": null
          }
        },
        "a186f1a4751b4f468a78455d3f50fe85": {
          "model_module": "@jupyter-widgets/controls",
          "model_name": "DescriptionStyleModel",
          "model_module_version": "1.5.0",
          "state": {
            "_model_module": "@jupyter-widgets/controls",
            "_model_module_version": "1.5.0",
            "_model_name": "DescriptionStyleModel",
            "_view_count": null,
            "_view_module": "@jupyter-widgets/base",
            "_view_module_version": "1.2.0",
            "_view_name": "StyleView",
            "description_width": ""
          }
        },
        "4668cbaaa72c4fcc87662a2869e66e1f": {
          "model_module": "@jupyter-widgets/controls",
          "model_name": "HBoxModel",
          "model_module_version": "1.5.0",
          "state": {
            "_dom_classes": [],
            "_model_module": "@jupyter-widgets/controls",
            "_model_module_version": "1.5.0",
            "_model_name": "HBoxModel",
            "_view_count": null,
            "_view_module": "@jupyter-widgets/controls",
            "_view_module_version": "1.5.0",
            "_view_name": "HBoxView",
            "box_style": "",
            "children": [
              "IPY_MODEL_a2957161cdc046d3a27b10947f4fcaac",
              "IPY_MODEL_e1f1fa97fbe04981989e7457c431c713",
              "IPY_MODEL_b0799984fd1a428e8e43dccbd829ce10"
            ],
            "layout": "IPY_MODEL_bf54d503082e4f979cd9ed23aa82a8a3"
          }
        },
        "a2957161cdc046d3a27b10947f4fcaac": {
          "model_module": "@jupyter-widgets/controls",
          "model_name": "HTMLModel",
          "model_module_version": "1.5.0",
          "state": {
            "_dom_classes": [],
            "_model_module": "@jupyter-widgets/controls",
            "_model_module_version": "1.5.0",
            "_model_name": "HTMLModel",
            "_view_count": null,
            "_view_module": "@jupyter-widgets/controls",
            "_view_module_version": "1.5.0",
            "_view_name": "HTMLView",
            "description": "",
            "description_tooltip": null,
            "layout": "IPY_MODEL_2b873e0a7e5846cbb7dd2b825cfacddb",
            "placeholder": "​",
            "style": "IPY_MODEL_ae4d5f8a97d9425b98156e37d62daae9",
            "value": "Map: 100%"
          }
        },
        "e1f1fa97fbe04981989e7457c431c713": {
          "model_module": "@jupyter-widgets/controls",
          "model_name": "FloatProgressModel",
          "model_module_version": "1.5.0",
          "state": {
            "_dom_classes": [],
            "_model_module": "@jupyter-widgets/controls",
            "_model_module_version": "1.5.0",
            "_model_name": "FloatProgressModel",
            "_view_count": null,
            "_view_module": "@jupyter-widgets/controls",
            "_view_module_version": "1.5.0",
            "_view_name": "ProgressView",
            "bar_style": "success",
            "description": "",
            "description_tooltip": null,
            "layout": "IPY_MODEL_b8725abf7ad4451789fbef1ada217c8e",
            "max": 3834,
            "min": 0,
            "orientation": "horizontal",
            "style": "IPY_MODEL_6ff1589ab2c34361b1f618475160b9b0",
            "value": 3834
          }
        },
        "b0799984fd1a428e8e43dccbd829ce10": {
          "model_module": "@jupyter-widgets/controls",
          "model_name": "HTMLModel",
          "model_module_version": "1.5.0",
          "state": {
            "_dom_classes": [],
            "_model_module": "@jupyter-widgets/controls",
            "_model_module_version": "1.5.0",
            "_model_name": "HTMLModel",
            "_view_count": null,
            "_view_module": "@jupyter-widgets/controls",
            "_view_module_version": "1.5.0",
            "_view_name": "HTMLView",
            "description": "",
            "description_tooltip": null,
            "layout": "IPY_MODEL_2bc670277e7846799fa739d86a8aff6a",
            "placeholder": "​",
            "style": "IPY_MODEL_8d5635af0cd2463ba18106491f3ba1ec",
            "value": " 3834/3834 [00:00&lt;00:00, 12079.33 examples/s]"
          }
        },
        "bf54d503082e4f979cd9ed23aa82a8a3": {
          "model_module": "@jupyter-widgets/base",
          "model_name": "LayoutModel",
          "model_module_version": "1.2.0",
          "state": {
            "_model_module": "@jupyter-widgets/base",
            "_model_module_version": "1.2.0",
            "_model_name": "LayoutModel",
            "_view_count": null,
            "_view_module": "@jupyter-widgets/base",
            "_view_module_version": "1.2.0",
            "_view_name": "LayoutView",
            "align_content": null,
            "align_items": null,
            "align_self": null,
            "border": null,
            "bottom": null,
            "display": null,
            "flex": null,
            "flex_flow": null,
            "grid_area": null,
            "grid_auto_columns": null,
            "grid_auto_flow": null,
            "grid_auto_rows": null,
            "grid_column": null,
            "grid_gap": null,
            "grid_row": null,
            "grid_template_areas": null,
            "grid_template_columns": null,
            "grid_template_rows": null,
            "height": null,
            "justify_content": null,
            "justify_items": null,
            "left": null,
            "margin": null,
            "max_height": null,
            "max_width": null,
            "min_height": null,
            "min_width": null,
            "object_fit": null,
            "object_position": null,
            "order": null,
            "overflow": null,
            "overflow_x": null,
            "overflow_y": null,
            "padding": null,
            "right": null,
            "top": null,
            "visibility": null,
            "width": null
          }
        },
        "2b873e0a7e5846cbb7dd2b825cfacddb": {
          "model_module": "@jupyter-widgets/base",
          "model_name": "LayoutModel",
          "model_module_version": "1.2.0",
          "state": {
            "_model_module": "@jupyter-widgets/base",
            "_model_module_version": "1.2.0",
            "_model_name": "LayoutModel",
            "_view_count": null,
            "_view_module": "@jupyter-widgets/base",
            "_view_module_version": "1.2.0",
            "_view_name": "LayoutView",
            "align_content": null,
            "align_items": null,
            "align_self": null,
            "border": null,
            "bottom": null,
            "display": null,
            "flex": null,
            "flex_flow": null,
            "grid_area": null,
            "grid_auto_columns": null,
            "grid_auto_flow": null,
            "grid_auto_rows": null,
            "grid_column": null,
            "grid_gap": null,
            "grid_row": null,
            "grid_template_areas": null,
            "grid_template_columns": null,
            "grid_template_rows": null,
            "height": null,
            "justify_content": null,
            "justify_items": null,
            "left": null,
            "margin": null,
            "max_height": null,
            "max_width": null,
            "min_height": null,
            "min_width": null,
            "object_fit": null,
            "object_position": null,
            "order": null,
            "overflow": null,
            "overflow_x": null,
            "overflow_y": null,
            "padding": null,
            "right": null,
            "top": null,
            "visibility": null,
            "width": null
          }
        },
        "ae4d5f8a97d9425b98156e37d62daae9": {
          "model_module": "@jupyter-widgets/controls",
          "model_name": "DescriptionStyleModel",
          "model_module_version": "1.5.0",
          "state": {
            "_model_module": "@jupyter-widgets/controls",
            "_model_module_version": "1.5.0",
            "_model_name": "DescriptionStyleModel",
            "_view_count": null,
            "_view_module": "@jupyter-widgets/base",
            "_view_module_version": "1.2.0",
            "_view_name": "StyleView",
            "description_width": ""
          }
        },
        "b8725abf7ad4451789fbef1ada217c8e": {
          "model_module": "@jupyter-widgets/base",
          "model_name": "LayoutModel",
          "model_module_version": "1.2.0",
          "state": {
            "_model_module": "@jupyter-widgets/base",
            "_model_module_version": "1.2.0",
            "_model_name": "LayoutModel",
            "_view_count": null,
            "_view_module": "@jupyter-widgets/base",
            "_view_module_version": "1.2.0",
            "_view_name": "LayoutView",
            "align_content": null,
            "align_items": null,
            "align_self": null,
            "border": null,
            "bottom": null,
            "display": null,
            "flex": null,
            "flex_flow": null,
            "grid_area": null,
            "grid_auto_columns": null,
            "grid_auto_flow": null,
            "grid_auto_rows": null,
            "grid_column": null,
            "grid_gap": null,
            "grid_row": null,
            "grid_template_areas": null,
            "grid_template_columns": null,
            "grid_template_rows": null,
            "height": null,
            "justify_content": null,
            "justify_items": null,
            "left": null,
            "margin": null,
            "max_height": null,
            "max_width": null,
            "min_height": null,
            "min_width": null,
            "object_fit": null,
            "object_position": null,
            "order": null,
            "overflow": null,
            "overflow_x": null,
            "overflow_y": null,
            "padding": null,
            "right": null,
            "top": null,
            "visibility": null,
            "width": null
          }
        },
        "6ff1589ab2c34361b1f618475160b9b0": {
          "model_module": "@jupyter-widgets/controls",
          "model_name": "ProgressStyleModel",
          "model_module_version": "1.5.0",
          "state": {
            "_model_module": "@jupyter-widgets/controls",
            "_model_module_version": "1.5.0",
            "_model_name": "ProgressStyleModel",
            "_view_count": null,
            "_view_module": "@jupyter-widgets/base",
            "_view_module_version": "1.2.0",
            "_view_name": "StyleView",
            "bar_color": null,
            "description_width": ""
          }
        },
        "2bc670277e7846799fa739d86a8aff6a": {
          "model_module": "@jupyter-widgets/base",
          "model_name": "LayoutModel",
          "model_module_version": "1.2.0",
          "state": {
            "_model_module": "@jupyter-widgets/base",
            "_model_module_version": "1.2.0",
            "_model_name": "LayoutModel",
            "_view_count": null,
            "_view_module": "@jupyter-widgets/base",
            "_view_module_version": "1.2.0",
            "_view_name": "LayoutView",
            "align_content": null,
            "align_items": null,
            "align_self": null,
            "border": null,
            "bottom": null,
            "display": null,
            "flex": null,
            "flex_flow": null,
            "grid_area": null,
            "grid_auto_columns": null,
            "grid_auto_flow": null,
            "grid_auto_rows": null,
            "grid_column": null,
            "grid_gap": null,
            "grid_row": null,
            "grid_template_areas": null,
            "grid_template_columns": null,
            "grid_template_rows": null,
            "height": null,
            "justify_content": null,
            "justify_items": null,
            "left": null,
            "margin": null,
            "max_height": null,
            "max_width": null,
            "min_height": null,
            "min_width": null,
            "object_fit": null,
            "object_position": null,
            "order": null,
            "overflow": null,
            "overflow_x": null,
            "overflow_y": null,
            "padding": null,
            "right": null,
            "top": null,
            "visibility": null,
            "width": null
          }
        },
        "8d5635af0cd2463ba18106491f3ba1ec": {
          "model_module": "@jupyter-widgets/controls",
          "model_name": "DescriptionStyleModel",
          "model_module_version": "1.5.0",
          "state": {
            "_model_module": "@jupyter-widgets/controls",
            "_model_module_version": "1.5.0",
            "_model_name": "DescriptionStyleModel",
            "_view_count": null,
            "_view_module": "@jupyter-widgets/base",
            "_view_module_version": "1.2.0",
            "_view_name": "StyleView",
            "description_width": ""
          }
        },
        "e68ceac566d549b1ac8b4c4be67ed7b2": {
          "model_module": "@jupyter-widgets/controls",
          "model_name": "HBoxModel",
          "model_module_version": "1.5.0",
          "state": {
            "_dom_classes": [],
            "_model_module": "@jupyter-widgets/controls",
            "_model_module_version": "1.5.0",
            "_model_name": "HBoxModel",
            "_view_count": null,
            "_view_module": "@jupyter-widgets/controls",
            "_view_module_version": "1.5.0",
            "_view_name": "HBoxView",
            "box_style": "",
            "children": [
              "IPY_MODEL_8e754b85ce994e58aa1e994f341ba64c",
              "IPY_MODEL_751349ff52e74c3692c1602c782371e2",
              "IPY_MODEL_e1b5b164238d415bb1f4cfe348750162"
            ],
            "layout": "IPY_MODEL_33cea330631a47108d2ee167b47abd67"
          }
        },
        "8e754b85ce994e58aa1e994f341ba64c": {
          "model_module": "@jupyter-widgets/controls",
          "model_name": "HTMLModel",
          "model_module_version": "1.5.0",
          "state": {
            "_dom_classes": [],
            "_model_module": "@jupyter-widgets/controls",
            "_model_module_version": "1.5.0",
            "_model_name": "HTMLModel",
            "_view_count": null,
            "_view_module": "@jupyter-widgets/controls",
            "_view_module_version": "1.5.0",
            "_view_name": "HTMLView",
            "description": "",
            "description_tooltip": null,
            "layout": "IPY_MODEL_cb93e375068844d29370727dbee264a1",
            "placeholder": "​",
            "style": "IPY_MODEL_aba1abf3f6454180a6771e75e4700c39",
            "value": "Map: 100%"
          }
        },
        "751349ff52e74c3692c1602c782371e2": {
          "model_module": "@jupyter-widgets/controls",
          "model_name": "FloatProgressModel",
          "model_module_version": "1.5.0",
          "state": {
            "_dom_classes": [],
            "_model_module": "@jupyter-widgets/controls",
            "_model_module_version": "1.5.0",
            "_model_name": "FloatProgressModel",
            "_view_count": null,
            "_view_module": "@jupyter-widgets/controls",
            "_view_module_version": "1.5.0",
            "_view_name": "ProgressView",
            "bar_style": "success",
            "description": "",
            "description_tooltip": null,
            "layout": "IPY_MODEL_22c6ecb4849e4e6b99440092d5b27449",
            "max": 3821,
            "min": 0,
            "orientation": "horizontal",
            "style": "IPY_MODEL_e99ae245b44e4144b97bd789f4b751a4",
            "value": 3821
          }
        },
        "e1b5b164238d415bb1f4cfe348750162": {
          "model_module": "@jupyter-widgets/controls",
          "model_name": "HTMLModel",
          "model_module_version": "1.5.0",
          "state": {
            "_dom_classes": [],
            "_model_module": "@jupyter-widgets/controls",
            "_model_module_version": "1.5.0",
            "_model_name": "HTMLModel",
            "_view_count": null,
            "_view_module": "@jupyter-widgets/controls",
            "_view_module_version": "1.5.0",
            "_view_name": "HTMLView",
            "description": "",
            "description_tooltip": null,
            "layout": "IPY_MODEL_aa6b33d147e342e2bef09a0cf0a2d801",
            "placeholder": "​",
            "style": "IPY_MODEL_21b5a45f3d794d12a76093e2c8219b0c",
            "value": " 3821/3821 [00:00&lt;00:00, 9278.94 examples/s]"
          }
        },
        "33cea330631a47108d2ee167b47abd67": {
          "model_module": "@jupyter-widgets/base",
          "model_name": "LayoutModel",
          "model_module_version": "1.2.0",
          "state": {
            "_model_module": "@jupyter-widgets/base",
            "_model_module_version": "1.2.0",
            "_model_name": "LayoutModel",
            "_view_count": null,
            "_view_module": "@jupyter-widgets/base",
            "_view_module_version": "1.2.0",
            "_view_name": "LayoutView",
            "align_content": null,
            "align_items": null,
            "align_self": null,
            "border": null,
            "bottom": null,
            "display": null,
            "flex": null,
            "flex_flow": null,
            "grid_area": null,
            "grid_auto_columns": null,
            "grid_auto_flow": null,
            "grid_auto_rows": null,
            "grid_column": null,
            "grid_gap": null,
            "grid_row": null,
            "grid_template_areas": null,
            "grid_template_columns": null,
            "grid_template_rows": null,
            "height": null,
            "justify_content": null,
            "justify_items": null,
            "left": null,
            "margin": null,
            "max_height": null,
            "max_width": null,
            "min_height": null,
            "min_width": null,
            "object_fit": null,
            "object_position": null,
            "order": null,
            "overflow": null,
            "overflow_x": null,
            "overflow_y": null,
            "padding": null,
            "right": null,
            "top": null,
            "visibility": null,
            "width": null
          }
        },
        "cb93e375068844d29370727dbee264a1": {
          "model_module": "@jupyter-widgets/base",
          "model_name": "LayoutModel",
          "model_module_version": "1.2.0",
          "state": {
            "_model_module": "@jupyter-widgets/base",
            "_model_module_version": "1.2.0",
            "_model_name": "LayoutModel",
            "_view_count": null,
            "_view_module": "@jupyter-widgets/base",
            "_view_module_version": "1.2.0",
            "_view_name": "LayoutView",
            "align_content": null,
            "align_items": null,
            "align_self": null,
            "border": null,
            "bottom": null,
            "display": null,
            "flex": null,
            "flex_flow": null,
            "grid_area": null,
            "grid_auto_columns": null,
            "grid_auto_flow": null,
            "grid_auto_rows": null,
            "grid_column": null,
            "grid_gap": null,
            "grid_row": null,
            "grid_template_areas": null,
            "grid_template_columns": null,
            "grid_template_rows": null,
            "height": null,
            "justify_content": null,
            "justify_items": null,
            "left": null,
            "margin": null,
            "max_height": null,
            "max_width": null,
            "min_height": null,
            "min_width": null,
            "object_fit": null,
            "object_position": null,
            "order": null,
            "overflow": null,
            "overflow_x": null,
            "overflow_y": null,
            "padding": null,
            "right": null,
            "top": null,
            "visibility": null,
            "width": null
          }
        },
        "aba1abf3f6454180a6771e75e4700c39": {
          "model_module": "@jupyter-widgets/controls",
          "model_name": "DescriptionStyleModel",
          "model_module_version": "1.5.0",
          "state": {
            "_model_module": "@jupyter-widgets/controls",
            "_model_module_version": "1.5.0",
            "_model_name": "DescriptionStyleModel",
            "_view_count": null,
            "_view_module": "@jupyter-widgets/base",
            "_view_module_version": "1.2.0",
            "_view_name": "StyleView",
            "description_width": ""
          }
        },
        "22c6ecb4849e4e6b99440092d5b27449": {
          "model_module": "@jupyter-widgets/base",
          "model_name": "LayoutModel",
          "model_module_version": "1.2.0",
          "state": {
            "_model_module": "@jupyter-widgets/base",
            "_model_module_version": "1.2.0",
            "_model_name": "LayoutModel",
            "_view_count": null,
            "_view_module": "@jupyter-widgets/base",
            "_view_module_version": "1.2.0",
            "_view_name": "LayoutView",
            "align_content": null,
            "align_items": null,
            "align_self": null,
            "border": null,
            "bottom": null,
            "display": null,
            "flex": null,
            "flex_flow": null,
            "grid_area": null,
            "grid_auto_columns": null,
            "grid_auto_flow": null,
            "grid_auto_rows": null,
            "grid_column": null,
            "grid_gap": null,
            "grid_row": null,
            "grid_template_areas": null,
            "grid_template_columns": null,
            "grid_template_rows": null,
            "height": null,
            "justify_content": null,
            "justify_items": null,
            "left": null,
            "margin": null,
            "max_height": null,
            "max_width": null,
            "min_height": null,
            "min_width": null,
            "object_fit": null,
            "object_position": null,
            "order": null,
            "overflow": null,
            "overflow_x": null,
            "overflow_y": null,
            "padding": null,
            "right": null,
            "top": null,
            "visibility": null,
            "width": null
          }
        },
        "e99ae245b44e4144b97bd789f4b751a4": {
          "model_module": "@jupyter-widgets/controls",
          "model_name": "ProgressStyleModel",
          "model_module_version": "1.5.0",
          "state": {
            "_model_module": "@jupyter-widgets/controls",
            "_model_module_version": "1.5.0",
            "_model_name": "ProgressStyleModel",
            "_view_count": null,
            "_view_module": "@jupyter-widgets/base",
            "_view_module_version": "1.2.0",
            "_view_name": "StyleView",
            "bar_color": null,
            "description_width": ""
          }
        },
        "aa6b33d147e342e2bef09a0cf0a2d801": {
          "model_module": "@jupyter-widgets/base",
          "model_name": "LayoutModel",
          "model_module_version": "1.2.0",
          "state": {
            "_model_module": "@jupyter-widgets/base",
            "_model_module_version": "1.2.0",
            "_model_name": "LayoutModel",
            "_view_count": null,
            "_view_module": "@jupyter-widgets/base",
            "_view_module_version": "1.2.0",
            "_view_name": "LayoutView",
            "align_content": null,
            "align_items": null,
            "align_self": null,
            "border": null,
            "bottom": null,
            "display": null,
            "flex": null,
            "flex_flow": null,
            "grid_area": null,
            "grid_auto_columns": null,
            "grid_auto_flow": null,
            "grid_auto_rows": null,
            "grid_column": null,
            "grid_gap": null,
            "grid_row": null,
            "grid_template_areas": null,
            "grid_template_columns": null,
            "grid_template_rows": null,
            "height": null,
            "justify_content": null,
            "justify_items": null,
            "left": null,
            "margin": null,
            "max_height": null,
            "max_width": null,
            "min_height": null,
            "min_width": null,
            "object_fit": null,
            "object_position": null,
            "order": null,
            "overflow": null,
            "overflow_x": null,
            "overflow_y": null,
            "padding": null,
            "right": null,
            "top": null,
            "visibility": null,
            "width": null
          }
        },
        "21b5a45f3d794d12a76093e2c8219b0c": {
          "model_module": "@jupyter-widgets/controls",
          "model_name": "DescriptionStyleModel",
          "model_module_version": "1.5.0",
          "state": {
            "_model_module": "@jupyter-widgets/controls",
            "_model_module_version": "1.5.0",
            "_model_name": "DescriptionStyleModel",
            "_view_count": null,
            "_view_module": "@jupyter-widgets/base",
            "_view_module_version": "1.2.0",
            "_view_name": "StyleView",
            "description_width": ""
          }
        },
        "ce5202f7f7a947eb9a157b6a4cbf52cf": {
          "model_module": "@jupyter-widgets/controls",
          "model_name": "HBoxModel",
          "model_module_version": "1.5.0",
          "state": {
            "_dom_classes": [],
            "_model_module": "@jupyter-widgets/controls",
            "_model_module_version": "1.5.0",
            "_model_name": "HBoxModel",
            "_view_count": null,
            "_view_module": "@jupyter-widgets/controls",
            "_view_module_version": "1.5.0",
            "_view_name": "HBoxView",
            "box_style": "",
            "children": [
              "IPY_MODEL_ba56e09381364371877c4da55f8decd0",
              "IPY_MODEL_f1c4b1f9c629430b8fc80ee00b6197d4",
              "IPY_MODEL_02f833715d354071a8f901dda6f2c526"
            ],
            "layout": "IPY_MODEL_da8bdf55d541454da6c8b6cc3c19ac4b"
          }
        },
        "ba56e09381364371877c4da55f8decd0": {
          "model_module": "@jupyter-widgets/controls",
          "model_name": "HTMLModel",
          "model_module_version": "1.5.0",
          "state": {
            "_dom_classes": [],
            "_model_module": "@jupyter-widgets/controls",
            "_model_module_version": "1.5.0",
            "_model_name": "HTMLModel",
            "_view_count": null,
            "_view_module": "@jupyter-widgets/controls",
            "_view_module_version": "1.5.0",
            "_view_name": "HTMLView",
            "description": "",
            "description_tooltip": null,
            "layout": "IPY_MODEL_8a47380facef4bf5bac2e417ce06fa89",
            "placeholder": "​",
            "style": "IPY_MODEL_a2df3aa50d7f4a1dad4e33e7aad8f391",
            "value": "Map: 100%"
          }
        },
        "f1c4b1f9c629430b8fc80ee00b6197d4": {
          "model_module": "@jupyter-widgets/controls",
          "model_name": "FloatProgressModel",
          "model_module_version": "1.5.0",
          "state": {
            "_dom_classes": [],
            "_model_module": "@jupyter-widgets/controls",
            "_model_module_version": "1.5.0",
            "_model_name": "FloatProgressModel",
            "_view_count": null,
            "_view_module": "@jupyter-widgets/controls",
            "_view_module_version": "1.5.0",
            "_view_name": "ProgressView",
            "bar_style": "success",
            "description": "",
            "description_tooltip": null,
            "layout": "IPY_MODEL_d7e0a658ac8545c8a371eaf77777db17",
            "max": 32172,
            "min": 0,
            "orientation": "horizontal",
            "style": "IPY_MODEL_60ec4271ac494127b069805817fed239",
            "value": 32172
          }
        },
        "02f833715d354071a8f901dda6f2c526": {
          "model_module": "@jupyter-widgets/controls",
          "model_name": "HTMLModel",
          "model_module_version": "1.5.0",
          "state": {
            "_dom_classes": [],
            "_model_module": "@jupyter-widgets/controls",
            "_model_module_version": "1.5.0",
            "_model_name": "HTMLModel",
            "_view_count": null,
            "_view_module": "@jupyter-widgets/controls",
            "_view_module_version": "1.5.0",
            "_view_name": "HTMLView",
            "description": "",
            "description_tooltip": null,
            "layout": "IPY_MODEL_1d9d91d2d0fa45fb9f808063a244c680",
            "placeholder": "​",
            "style": "IPY_MODEL_14f8fb1a07994f0cabaf3ab88df9b4ca",
            "value": " 32172/32172 [00:04&lt;00:00, 9878.77 examples/s]"
          }
        },
        "da8bdf55d541454da6c8b6cc3c19ac4b": {
          "model_module": "@jupyter-widgets/base",
          "model_name": "LayoutModel",
          "model_module_version": "1.2.0",
          "state": {
            "_model_module": "@jupyter-widgets/base",
            "_model_module_version": "1.2.0",
            "_model_name": "LayoutModel",
            "_view_count": null,
            "_view_module": "@jupyter-widgets/base",
            "_view_module_version": "1.2.0",
            "_view_name": "LayoutView",
            "align_content": null,
            "align_items": null,
            "align_self": null,
            "border": null,
            "bottom": null,
            "display": null,
            "flex": null,
            "flex_flow": null,
            "grid_area": null,
            "grid_auto_columns": null,
            "grid_auto_flow": null,
            "grid_auto_rows": null,
            "grid_column": null,
            "grid_gap": null,
            "grid_row": null,
            "grid_template_areas": null,
            "grid_template_columns": null,
            "grid_template_rows": null,
            "height": null,
            "justify_content": null,
            "justify_items": null,
            "left": null,
            "margin": null,
            "max_height": null,
            "max_width": null,
            "min_height": null,
            "min_width": null,
            "object_fit": null,
            "object_position": null,
            "order": null,
            "overflow": null,
            "overflow_x": null,
            "overflow_y": null,
            "padding": null,
            "right": null,
            "top": null,
            "visibility": null,
            "width": null
          }
        },
        "8a47380facef4bf5bac2e417ce06fa89": {
          "model_module": "@jupyter-widgets/base",
          "model_name": "LayoutModel",
          "model_module_version": "1.2.0",
          "state": {
            "_model_module": "@jupyter-widgets/base",
            "_model_module_version": "1.2.0",
            "_model_name": "LayoutModel",
            "_view_count": null,
            "_view_module": "@jupyter-widgets/base",
            "_view_module_version": "1.2.0",
            "_view_name": "LayoutView",
            "align_content": null,
            "align_items": null,
            "align_self": null,
            "border": null,
            "bottom": null,
            "display": null,
            "flex": null,
            "flex_flow": null,
            "grid_area": null,
            "grid_auto_columns": null,
            "grid_auto_flow": null,
            "grid_auto_rows": null,
            "grid_column": null,
            "grid_gap": null,
            "grid_row": null,
            "grid_template_areas": null,
            "grid_template_columns": null,
            "grid_template_rows": null,
            "height": null,
            "justify_content": null,
            "justify_items": null,
            "left": null,
            "margin": null,
            "max_height": null,
            "max_width": null,
            "min_height": null,
            "min_width": null,
            "object_fit": null,
            "object_position": null,
            "order": null,
            "overflow": null,
            "overflow_x": null,
            "overflow_y": null,
            "padding": null,
            "right": null,
            "top": null,
            "visibility": null,
            "width": null
          }
        },
        "a2df3aa50d7f4a1dad4e33e7aad8f391": {
          "model_module": "@jupyter-widgets/controls",
          "model_name": "DescriptionStyleModel",
          "model_module_version": "1.5.0",
          "state": {
            "_model_module": "@jupyter-widgets/controls",
            "_model_module_version": "1.5.0",
            "_model_name": "DescriptionStyleModel",
            "_view_count": null,
            "_view_module": "@jupyter-widgets/base",
            "_view_module_version": "1.2.0",
            "_view_name": "StyleView",
            "description_width": ""
          }
        },
        "d7e0a658ac8545c8a371eaf77777db17": {
          "model_module": "@jupyter-widgets/base",
          "model_name": "LayoutModel",
          "model_module_version": "1.2.0",
          "state": {
            "_model_module": "@jupyter-widgets/base",
            "_model_module_version": "1.2.0",
            "_model_name": "LayoutModel",
            "_view_count": null,
            "_view_module": "@jupyter-widgets/base",
            "_view_module_version": "1.2.0",
            "_view_name": "LayoutView",
            "align_content": null,
            "align_items": null,
            "align_self": null,
            "border": null,
            "bottom": null,
            "display": null,
            "flex": null,
            "flex_flow": null,
            "grid_area": null,
            "grid_auto_columns": null,
            "grid_auto_flow": null,
            "grid_auto_rows": null,
            "grid_column": null,
            "grid_gap": null,
            "grid_row": null,
            "grid_template_areas": null,
            "grid_template_columns": null,
            "grid_template_rows": null,
            "height": null,
            "justify_content": null,
            "justify_items": null,
            "left": null,
            "margin": null,
            "max_height": null,
            "max_width": null,
            "min_height": null,
            "min_width": null,
            "object_fit": null,
            "object_position": null,
            "order": null,
            "overflow": null,
            "overflow_x": null,
            "overflow_y": null,
            "padding": null,
            "right": null,
            "top": null,
            "visibility": null,
            "width": null
          }
        },
        "60ec4271ac494127b069805817fed239": {
          "model_module": "@jupyter-widgets/controls",
          "model_name": "ProgressStyleModel",
          "model_module_version": "1.5.0",
          "state": {
            "_model_module": "@jupyter-widgets/controls",
            "_model_module_version": "1.5.0",
            "_model_name": "ProgressStyleModel",
            "_view_count": null,
            "_view_module": "@jupyter-widgets/base",
            "_view_module_version": "1.2.0",
            "_view_name": "StyleView",
            "bar_color": null,
            "description_width": ""
          }
        },
        "1d9d91d2d0fa45fb9f808063a244c680": {
          "model_module": "@jupyter-widgets/base",
          "model_name": "LayoutModel",
          "model_module_version": "1.2.0",
          "state": {
            "_model_module": "@jupyter-widgets/base",
            "_model_module_version": "1.2.0",
            "_model_name": "LayoutModel",
            "_view_count": null,
            "_view_module": "@jupyter-widgets/base",
            "_view_module_version": "1.2.0",
            "_view_name": "LayoutView",
            "align_content": null,
            "align_items": null,
            "align_self": null,
            "border": null,
            "bottom": null,
            "display": null,
            "flex": null,
            "flex_flow": null,
            "grid_area": null,
            "grid_auto_columns": null,
            "grid_auto_flow": null,
            "grid_auto_rows": null,
            "grid_column": null,
            "grid_gap": null,
            "grid_row": null,
            "grid_template_areas": null,
            "grid_template_columns": null,
            "grid_template_rows": null,
            "height": null,
            "justify_content": null,
            "justify_items": null,
            "left": null,
            "margin": null,
            "max_height": null,
            "max_width": null,
            "min_height": null,
            "min_width": null,
            "object_fit": null,
            "object_position": null,
            "order": null,
            "overflow": null,
            "overflow_x": null,
            "overflow_y": null,
            "padding": null,
            "right": null,
            "top": null,
            "visibility": null,
            "width": null
          }
        },
        "14f8fb1a07994f0cabaf3ab88df9b4ca": {
          "model_module": "@jupyter-widgets/controls",
          "model_name": "DescriptionStyleModel",
          "model_module_version": "1.5.0",
          "state": {
            "_model_module": "@jupyter-widgets/controls",
            "_model_module_version": "1.5.0",
            "_model_name": "DescriptionStyleModel",
            "_view_count": null,
            "_view_module": "@jupyter-widgets/base",
            "_view_module_version": "1.2.0",
            "_view_name": "StyleView",
            "description_width": ""
          }
        },
        "275c0cf07a664e95aa681587d92cb76e": {
          "model_module": "@jupyter-widgets/controls",
          "model_name": "HBoxModel",
          "model_module_version": "1.5.0",
          "state": {
            "_dom_classes": [],
            "_model_module": "@jupyter-widgets/controls",
            "_model_module_version": "1.5.0",
            "_model_name": "HBoxModel",
            "_view_count": null,
            "_view_module": "@jupyter-widgets/controls",
            "_view_module_version": "1.5.0",
            "_view_name": "HBoxView",
            "box_style": "",
            "children": [
              "IPY_MODEL_7b9e2b69fe0a44bca588eb81f9917bf4",
              "IPY_MODEL_f66cbe90ba724a9a8d96babbbb784db7",
              "IPY_MODEL_e2c8f7a3776a49299a9635fd26b637d2"
            ],
            "layout": "IPY_MODEL_879fc21611744203899a920f12a6090c"
          }
        },
        "7b9e2b69fe0a44bca588eb81f9917bf4": {
          "model_module": "@jupyter-widgets/controls",
          "model_name": "HTMLModel",
          "model_module_version": "1.5.0",
          "state": {
            "_dom_classes": [],
            "_model_module": "@jupyter-widgets/controls",
            "_model_module_version": "1.5.0",
            "_model_name": "HTMLModel",
            "_view_count": null,
            "_view_module": "@jupyter-widgets/controls",
            "_view_module_version": "1.5.0",
            "_view_name": "HTMLView",
            "description": "",
            "description_tooltip": null,
            "layout": "IPY_MODEL_cf2a75f39cb6410fba6262ece70401e8",
            "placeholder": "​",
            "style": "IPY_MODEL_35958e1655484f599269151acdb009d5",
            "value": "Map: 100%"
          }
        },
        "f66cbe90ba724a9a8d96babbbb784db7": {
          "model_module": "@jupyter-widgets/controls",
          "model_name": "FloatProgressModel",
          "model_module_version": "1.5.0",
          "state": {
            "_dom_classes": [],
            "_model_module": "@jupyter-widgets/controls",
            "_model_module_version": "1.5.0",
            "_model_name": "FloatProgressModel",
            "_view_count": null,
            "_view_module": "@jupyter-widgets/controls",
            "_view_module_version": "1.5.0",
            "_view_name": "ProgressView",
            "bar_style": "success",
            "description": "",
            "description_tooltip": null,
            "layout": "IPY_MODEL_e7deb99c44cf479e90dc0b616bb74874",
            "max": 2000,
            "min": 0,
            "orientation": "horizontal",
            "style": "IPY_MODEL_5991384c3c784d8c95d49956f302d23f",
            "value": 2000
          }
        },
        "e2c8f7a3776a49299a9635fd26b637d2": {
          "model_module": "@jupyter-widgets/controls",
          "model_name": "HTMLModel",
          "model_module_version": "1.5.0",
          "state": {
            "_dom_classes": [],
            "_model_module": "@jupyter-widgets/controls",
            "_model_module_version": "1.5.0",
            "_model_name": "HTMLModel",
            "_view_count": null,
            "_view_module": "@jupyter-widgets/controls",
            "_view_module_version": "1.5.0",
            "_view_name": "HTMLView",
            "description": "",
            "description_tooltip": null,
            "layout": "IPY_MODEL_6757a1eeb21146b0ba57401e4e2ccba7",
            "placeholder": "​",
            "style": "IPY_MODEL_b2ba06f2aacb41959ee8103b919ad136",
            "value": " 2000/2000 [00:00&lt;00:00, 8941.74 examples/s]"
          }
        },
        "879fc21611744203899a920f12a6090c": {
          "model_module": "@jupyter-widgets/base",
          "model_name": "LayoutModel",
          "model_module_version": "1.2.0",
          "state": {
            "_model_module": "@jupyter-widgets/base",
            "_model_module_version": "1.2.0",
            "_model_name": "LayoutModel",
            "_view_count": null,
            "_view_module": "@jupyter-widgets/base",
            "_view_module_version": "1.2.0",
            "_view_name": "LayoutView",
            "align_content": null,
            "align_items": null,
            "align_self": null,
            "border": null,
            "bottom": null,
            "display": null,
            "flex": null,
            "flex_flow": null,
            "grid_area": null,
            "grid_auto_columns": null,
            "grid_auto_flow": null,
            "grid_auto_rows": null,
            "grid_column": null,
            "grid_gap": null,
            "grid_row": null,
            "grid_template_areas": null,
            "grid_template_columns": null,
            "grid_template_rows": null,
            "height": null,
            "justify_content": null,
            "justify_items": null,
            "left": null,
            "margin": null,
            "max_height": null,
            "max_width": null,
            "min_height": null,
            "min_width": null,
            "object_fit": null,
            "object_position": null,
            "order": null,
            "overflow": null,
            "overflow_x": null,
            "overflow_y": null,
            "padding": null,
            "right": null,
            "top": null,
            "visibility": null,
            "width": null
          }
        },
        "cf2a75f39cb6410fba6262ece70401e8": {
          "model_module": "@jupyter-widgets/base",
          "model_name": "LayoutModel",
          "model_module_version": "1.2.0",
          "state": {
            "_model_module": "@jupyter-widgets/base",
            "_model_module_version": "1.2.0",
            "_model_name": "LayoutModel",
            "_view_count": null,
            "_view_module": "@jupyter-widgets/base",
            "_view_module_version": "1.2.0",
            "_view_name": "LayoutView",
            "align_content": null,
            "align_items": null,
            "align_self": null,
            "border": null,
            "bottom": null,
            "display": null,
            "flex": null,
            "flex_flow": null,
            "grid_area": null,
            "grid_auto_columns": null,
            "grid_auto_flow": null,
            "grid_auto_rows": null,
            "grid_column": null,
            "grid_gap": null,
            "grid_row": null,
            "grid_template_areas": null,
            "grid_template_columns": null,
            "grid_template_rows": null,
            "height": null,
            "justify_content": null,
            "justify_items": null,
            "left": null,
            "margin": null,
            "max_height": null,
            "max_width": null,
            "min_height": null,
            "min_width": null,
            "object_fit": null,
            "object_position": null,
            "order": null,
            "overflow": null,
            "overflow_x": null,
            "overflow_y": null,
            "padding": null,
            "right": null,
            "top": null,
            "visibility": null,
            "width": null
          }
        },
        "35958e1655484f599269151acdb009d5": {
          "model_module": "@jupyter-widgets/controls",
          "model_name": "DescriptionStyleModel",
          "model_module_version": "1.5.0",
          "state": {
            "_model_module": "@jupyter-widgets/controls",
            "_model_module_version": "1.5.0",
            "_model_name": "DescriptionStyleModel",
            "_view_count": null,
            "_view_module": "@jupyter-widgets/base",
            "_view_module_version": "1.2.0",
            "_view_name": "StyleView",
            "description_width": ""
          }
        },
        "e7deb99c44cf479e90dc0b616bb74874": {
          "model_module": "@jupyter-widgets/base",
          "model_name": "LayoutModel",
          "model_module_version": "1.2.0",
          "state": {
            "_model_module": "@jupyter-widgets/base",
            "_model_module_version": "1.2.0",
            "_model_name": "LayoutModel",
            "_view_count": null,
            "_view_module": "@jupyter-widgets/base",
            "_view_module_version": "1.2.0",
            "_view_name": "LayoutView",
            "align_content": null,
            "align_items": null,
            "align_self": null,
            "border": null,
            "bottom": null,
            "display": null,
            "flex": null,
            "flex_flow": null,
            "grid_area": null,
            "grid_auto_columns": null,
            "grid_auto_flow": null,
            "grid_auto_rows": null,
            "grid_column": null,
            "grid_gap": null,
            "grid_row": null,
            "grid_template_areas": null,
            "grid_template_columns": null,
            "grid_template_rows": null,
            "height": null,
            "justify_content": null,
            "justify_items": null,
            "left": null,
            "margin": null,
            "max_height": null,
            "max_width": null,
            "min_height": null,
            "min_width": null,
            "object_fit": null,
            "object_position": null,
            "order": null,
            "overflow": null,
            "overflow_x": null,
            "overflow_y": null,
            "padding": null,
            "right": null,
            "top": null,
            "visibility": null,
            "width": null
          }
        },
        "5991384c3c784d8c95d49956f302d23f": {
          "model_module": "@jupyter-widgets/controls",
          "model_name": "ProgressStyleModel",
          "model_module_version": "1.5.0",
          "state": {
            "_model_module": "@jupyter-widgets/controls",
            "_model_module_version": "1.5.0",
            "_model_name": "ProgressStyleModel",
            "_view_count": null,
            "_view_module": "@jupyter-widgets/base",
            "_view_module_version": "1.2.0",
            "_view_name": "StyleView",
            "bar_color": null,
            "description_width": ""
          }
        },
        "6757a1eeb21146b0ba57401e4e2ccba7": {
          "model_module": "@jupyter-widgets/base",
          "model_name": "LayoutModel",
          "model_module_version": "1.2.0",
          "state": {
            "_model_module": "@jupyter-widgets/base",
            "_model_module_version": "1.2.0",
            "_model_name": "LayoutModel",
            "_view_count": null,
            "_view_module": "@jupyter-widgets/base",
            "_view_module_version": "1.2.0",
            "_view_name": "LayoutView",
            "align_content": null,
            "align_items": null,
            "align_self": null,
            "border": null,
            "bottom": null,
            "display": null,
            "flex": null,
            "flex_flow": null,
            "grid_area": null,
            "grid_auto_columns": null,
            "grid_auto_flow": null,
            "grid_auto_rows": null,
            "grid_column": null,
            "grid_gap": null,
            "grid_row": null,
            "grid_template_areas": null,
            "grid_template_columns": null,
            "grid_template_rows": null,
            "height": null,
            "justify_content": null,
            "justify_items": null,
            "left": null,
            "margin": null,
            "max_height": null,
            "max_width": null,
            "min_height": null,
            "min_width": null,
            "object_fit": null,
            "object_position": null,
            "order": null,
            "overflow": null,
            "overflow_x": null,
            "overflow_y": null,
            "padding": null,
            "right": null,
            "top": null,
            "visibility": null,
            "width": null
          }
        },
        "b2ba06f2aacb41959ee8103b919ad136": {
          "model_module": "@jupyter-widgets/controls",
          "model_name": "DescriptionStyleModel",
          "model_module_version": "1.5.0",
          "state": {
            "_model_module": "@jupyter-widgets/controls",
            "_model_module_version": "1.5.0",
            "_model_name": "DescriptionStyleModel",
            "_view_count": null,
            "_view_module": "@jupyter-widgets/base",
            "_view_module_version": "1.2.0",
            "_view_name": "StyleView",
            "description_width": ""
          }
        },
        "b74727dbfe06464c8b18f9efc6b7ff22": {
          "model_module": "@jupyter-widgets/controls",
          "model_name": "HBoxModel",
          "model_module_version": "1.5.0",
          "state": {
            "_dom_classes": [],
            "_model_module": "@jupyter-widgets/controls",
            "_model_module_version": "1.5.0",
            "_model_name": "HBoxModel",
            "_view_count": null,
            "_view_module": "@jupyter-widgets/controls",
            "_view_module_version": "1.5.0",
            "_view_name": "HBoxView",
            "box_style": "",
            "children": [
              "IPY_MODEL_c9c0594d274a4ab7bb3eced37be08e25",
              "IPY_MODEL_2fd2d45a0cb64f67b9d11c162f10e6c0",
              "IPY_MODEL_9af526ca7c5b440c815068e58efa0fa4"
            ],
            "layout": "IPY_MODEL_ff62b88cf5b248a080f06f319af25418"
          }
        },
        "c9c0594d274a4ab7bb3eced37be08e25": {
          "model_module": "@jupyter-widgets/controls",
          "model_name": "HTMLModel",
          "model_module_version": "1.5.0",
          "state": {
            "_dom_classes": [],
            "_model_module": "@jupyter-widgets/controls",
            "_model_module_version": "1.5.0",
            "_model_name": "HTMLModel",
            "_view_count": null,
            "_view_module": "@jupyter-widgets/controls",
            "_view_module_version": "1.5.0",
            "_view_name": "HTMLView",
            "description": "",
            "description_tooltip": null,
            "layout": "IPY_MODEL_8f432413d7794338abed661c9cfd63b6",
            "placeholder": "​",
            "style": "IPY_MODEL_1eb1dee7f2a04ffa9cea1c288c552f19",
            "value": "Map: 100%"
          }
        },
        "2fd2d45a0cb64f67b9d11c162f10e6c0": {
          "model_module": "@jupyter-widgets/controls",
          "model_name": "FloatProgressModel",
          "model_module_version": "1.5.0",
          "state": {
            "_dom_classes": [],
            "_model_module": "@jupyter-widgets/controls",
            "_model_module_version": "1.5.0",
            "_model_name": "FloatProgressModel",
            "_view_count": null,
            "_view_module": "@jupyter-widgets/controls",
            "_view_module_version": "1.5.0",
            "_view_name": "ProgressView",
            "bar_style": "success",
            "description": "",
            "description_tooltip": null,
            "layout": "IPY_MODEL_a4c86c3fbb9a4031920dcbbd22e87a4b",
            "max": 2000,
            "min": 0,
            "orientation": "horizontal",
            "style": "IPY_MODEL_dd46c9da96ff4011b0dc1258b77c0697",
            "value": 2000
          }
        },
        "9af526ca7c5b440c815068e58efa0fa4": {
          "model_module": "@jupyter-widgets/controls",
          "model_name": "HTMLModel",
          "model_module_version": "1.5.0",
          "state": {
            "_dom_classes": [],
            "_model_module": "@jupyter-widgets/controls",
            "_model_module_version": "1.5.0",
            "_model_name": "HTMLModel",
            "_view_count": null,
            "_view_module": "@jupyter-widgets/controls",
            "_view_module_version": "1.5.0",
            "_view_name": "HTMLView",
            "description": "",
            "description_tooltip": null,
            "layout": "IPY_MODEL_467f6947bad14a45ab7740026e4d7eac",
            "placeholder": "​",
            "style": "IPY_MODEL_29f2cbe836154b52a82ec5194cc962e5",
            "value": " 2000/2000 [00:00&lt;00:00, 8066.81 examples/s]"
          }
        },
        "ff62b88cf5b248a080f06f319af25418": {
          "model_module": "@jupyter-widgets/base",
          "model_name": "LayoutModel",
          "model_module_version": "1.2.0",
          "state": {
            "_model_module": "@jupyter-widgets/base",
            "_model_module_version": "1.2.0",
            "_model_name": "LayoutModel",
            "_view_count": null,
            "_view_module": "@jupyter-widgets/base",
            "_view_module_version": "1.2.0",
            "_view_name": "LayoutView",
            "align_content": null,
            "align_items": null,
            "align_self": null,
            "border": null,
            "bottom": null,
            "display": null,
            "flex": null,
            "flex_flow": null,
            "grid_area": null,
            "grid_auto_columns": null,
            "grid_auto_flow": null,
            "grid_auto_rows": null,
            "grid_column": null,
            "grid_gap": null,
            "grid_row": null,
            "grid_template_areas": null,
            "grid_template_columns": null,
            "grid_template_rows": null,
            "height": null,
            "justify_content": null,
            "justify_items": null,
            "left": null,
            "margin": null,
            "max_height": null,
            "max_width": null,
            "min_height": null,
            "min_width": null,
            "object_fit": null,
            "object_position": null,
            "order": null,
            "overflow": null,
            "overflow_x": null,
            "overflow_y": null,
            "padding": null,
            "right": null,
            "top": null,
            "visibility": null,
            "width": null
          }
        },
        "8f432413d7794338abed661c9cfd63b6": {
          "model_module": "@jupyter-widgets/base",
          "model_name": "LayoutModel",
          "model_module_version": "1.2.0",
          "state": {
            "_model_module": "@jupyter-widgets/base",
            "_model_module_version": "1.2.0",
            "_model_name": "LayoutModel",
            "_view_count": null,
            "_view_module": "@jupyter-widgets/base",
            "_view_module_version": "1.2.0",
            "_view_name": "LayoutView",
            "align_content": null,
            "align_items": null,
            "align_self": null,
            "border": null,
            "bottom": null,
            "display": null,
            "flex": null,
            "flex_flow": null,
            "grid_area": null,
            "grid_auto_columns": null,
            "grid_auto_flow": null,
            "grid_auto_rows": null,
            "grid_column": null,
            "grid_gap": null,
            "grid_row": null,
            "grid_template_areas": null,
            "grid_template_columns": null,
            "grid_template_rows": null,
            "height": null,
            "justify_content": null,
            "justify_items": null,
            "left": null,
            "margin": null,
            "max_height": null,
            "max_width": null,
            "min_height": null,
            "min_width": null,
            "object_fit": null,
            "object_position": null,
            "order": null,
            "overflow": null,
            "overflow_x": null,
            "overflow_y": null,
            "padding": null,
            "right": null,
            "top": null,
            "visibility": null,
            "width": null
          }
        },
        "1eb1dee7f2a04ffa9cea1c288c552f19": {
          "model_module": "@jupyter-widgets/controls",
          "model_name": "DescriptionStyleModel",
          "model_module_version": "1.5.0",
          "state": {
            "_model_module": "@jupyter-widgets/controls",
            "_model_module_version": "1.5.0",
            "_model_name": "DescriptionStyleModel",
            "_view_count": null,
            "_view_module": "@jupyter-widgets/base",
            "_view_module_version": "1.2.0",
            "_view_name": "StyleView",
            "description_width": ""
          }
        },
        "a4c86c3fbb9a4031920dcbbd22e87a4b": {
          "model_module": "@jupyter-widgets/base",
          "model_name": "LayoutModel",
          "model_module_version": "1.2.0",
          "state": {
            "_model_module": "@jupyter-widgets/base",
            "_model_module_version": "1.2.0",
            "_model_name": "LayoutModel",
            "_view_count": null,
            "_view_module": "@jupyter-widgets/base",
            "_view_module_version": "1.2.0",
            "_view_name": "LayoutView",
            "align_content": null,
            "align_items": null,
            "align_self": null,
            "border": null,
            "bottom": null,
            "display": null,
            "flex": null,
            "flex_flow": null,
            "grid_area": null,
            "grid_auto_columns": null,
            "grid_auto_flow": null,
            "grid_auto_rows": null,
            "grid_column": null,
            "grid_gap": null,
            "grid_row": null,
            "grid_template_areas": null,
            "grid_template_columns": null,
            "grid_template_rows": null,
            "height": null,
            "justify_content": null,
            "justify_items": null,
            "left": null,
            "margin": null,
            "max_height": null,
            "max_width": null,
            "min_height": null,
            "min_width": null,
            "object_fit": null,
            "object_position": null,
            "order": null,
            "overflow": null,
            "overflow_x": null,
            "overflow_y": null,
            "padding": null,
            "right": null,
            "top": null,
            "visibility": null,
            "width": null
          }
        },
        "dd46c9da96ff4011b0dc1258b77c0697": {
          "model_module": "@jupyter-widgets/controls",
          "model_name": "ProgressStyleModel",
          "model_module_version": "1.5.0",
          "state": {
            "_model_module": "@jupyter-widgets/controls",
            "_model_module_version": "1.5.0",
            "_model_name": "ProgressStyleModel",
            "_view_count": null,
            "_view_module": "@jupyter-widgets/base",
            "_view_module_version": "1.2.0",
            "_view_name": "StyleView",
            "bar_color": null,
            "description_width": ""
          }
        },
        "467f6947bad14a45ab7740026e4d7eac": {
          "model_module": "@jupyter-widgets/base",
          "model_name": "LayoutModel",
          "model_module_version": "1.2.0",
          "state": {
            "_model_module": "@jupyter-widgets/base",
            "_model_module_version": "1.2.0",
            "_model_name": "LayoutModel",
            "_view_count": null,
            "_view_module": "@jupyter-widgets/base",
            "_view_module_version": "1.2.0",
            "_view_name": "LayoutView",
            "align_content": null,
            "align_items": null,
            "align_self": null,
            "border": null,
            "bottom": null,
            "display": null,
            "flex": null,
            "flex_flow": null,
            "grid_area": null,
            "grid_auto_columns": null,
            "grid_auto_flow": null,
            "grid_auto_rows": null,
            "grid_column": null,
            "grid_gap": null,
            "grid_row": null,
            "grid_template_areas": null,
            "grid_template_columns": null,
            "grid_template_rows": null,
            "height": null,
            "justify_content": null,
            "justify_items": null,
            "left": null,
            "margin": null,
            "max_height": null,
            "max_width": null,
            "min_height": null,
            "min_width": null,
            "object_fit": null,
            "object_position": null,
            "order": null,
            "overflow": null,
            "overflow_x": null,
            "overflow_y": null,
            "padding": null,
            "right": null,
            "top": null,
            "visibility": null,
            "width": null
          }
        },
        "29f2cbe836154b52a82ec5194cc962e5": {
          "model_module": "@jupyter-widgets/controls",
          "model_name": "DescriptionStyleModel",
          "model_module_version": "1.5.0",
          "state": {
            "_model_module": "@jupyter-widgets/controls",
            "_model_module_version": "1.5.0",
            "_model_name": "DescriptionStyleModel",
            "_view_count": null,
            "_view_module": "@jupyter-widgets/base",
            "_view_module_version": "1.2.0",
            "_view_name": "StyleView",
            "description_width": ""
          }
        }
      }
    }
  },
  "cells": [
    {
      "cell_type": "markdown",
      "source": [
        "#Notebook Walkthrough: Emotion Detection with Data Augmentation"
      ],
      "metadata": {
        "id": "IKw-hcOFUTMJ"
      }
    },
    {
      "cell_type": "markdown",
      "source": [
        "# Emotion Detection with Data Augmentation\n",
        "\n",
        "## Introduction\n",
        "Emotion detection is a crucial task in natural language processing (NLP), enabling machines to understand and categorize human emotions expressed in text. It has applications in sentiment analysis, mental health monitoring, and customer feedback analysis.\n",
        "\n",
        "In this notebook, we will build an emotion detection model using the **GoEmotions** dataset and a custom dataset formatted as `{sentence;label}`.\n",
        "\n",
        "Key aspects of this project include:\n",
        "- Preprocessing and cleaning the datasets.\n",
        "- Augmenting the data to balance class distributions.\n",
        "- Training and evaluating models for each dataset.\n",
        "- Comparing results across datasets and providing insights into model performance.\n",
        "\n",
        "### Objectives\n",
        "1. Preprocess datasets and handle unique characteristics of each.\n",
        "2. Use data augmentation to address class imbalance.\n",
        "3. Train separate models for each dataset and evaluate their performance.\n",
        "4. Demonstrate inference with real-world examples."
      ],
      "metadata": {
        "id": "D7E4KzZfUgTY"
      }
    },
    {
      "cell_type": "markdown",
      "source": [
        "### First, we import all necessary librairies"
      ],
      "metadata": {
        "id": "_73R6JLdVl9d"
      }
    },
    {
      "cell_type": "code",
      "execution_count": 1,
      "metadata": {
        "colab": {
          "base_uri": "https://localhost:8080/"
        },
        "id": "Zy1XBORvUHGa",
        "outputId": "88b4db6f-f8e6-46da-db7e-e700e64be063"
      },
      "outputs": [
        {
          "output_type": "stream",
          "name": "stdout",
          "text": [
            "Collecting datasets\n",
            "  Downloading datasets-3.1.0-py3-none-any.whl.metadata (20 kB)\n",
            "Requirement already satisfied: filelock in /usr/local/lib/python3.10/dist-packages (from datasets) (3.16.1)\n",
            "Requirement already satisfied: numpy>=1.17 in /usr/local/lib/python3.10/dist-packages (from datasets) (1.26.4)\n",
            "Requirement already satisfied: pyarrow>=15.0.0 in /usr/local/lib/python3.10/dist-packages (from datasets) (17.0.0)\n",
            "Collecting dill<0.3.9,>=0.3.0 (from datasets)\n",
            "  Downloading dill-0.3.8-py3-none-any.whl.metadata (10 kB)\n",
            "Requirement already satisfied: pandas in /usr/local/lib/python3.10/dist-packages (from datasets) (2.2.2)\n",
            "Requirement already satisfied: requests>=2.32.2 in /usr/local/lib/python3.10/dist-packages (from datasets) (2.32.3)\n",
            "Requirement already satisfied: tqdm>=4.66.3 in /usr/local/lib/python3.10/dist-packages (from datasets) (4.66.6)\n",
            "Collecting xxhash (from datasets)\n",
            "  Downloading xxhash-3.5.0-cp310-cp310-manylinux_2_17_x86_64.manylinux2014_x86_64.whl.metadata (12 kB)\n",
            "Collecting multiprocess<0.70.17 (from datasets)\n",
            "  Downloading multiprocess-0.70.16-py310-none-any.whl.metadata (7.2 kB)\n",
            "Collecting fsspec<=2024.9.0,>=2023.1.0 (from fsspec[http]<=2024.9.0,>=2023.1.0->datasets)\n",
            "  Downloading fsspec-2024.9.0-py3-none-any.whl.metadata (11 kB)\n",
            "Requirement already satisfied: aiohttp in /usr/local/lib/python3.10/dist-packages (from datasets) (3.11.2)\n",
            "Requirement already satisfied: huggingface-hub>=0.23.0 in /usr/local/lib/python3.10/dist-packages (from datasets) (0.26.2)\n",
            "Requirement already satisfied: packaging in /usr/local/lib/python3.10/dist-packages (from datasets) (24.2)\n",
            "Requirement already satisfied: pyyaml>=5.1 in /usr/local/lib/python3.10/dist-packages (from datasets) (6.0.2)\n",
            "Requirement already satisfied: aiohappyeyeballs>=2.3.0 in /usr/local/lib/python3.10/dist-packages (from aiohttp->datasets) (2.4.3)\n",
            "Requirement already satisfied: aiosignal>=1.1.2 in /usr/local/lib/python3.10/dist-packages (from aiohttp->datasets) (1.3.1)\n",
            "Requirement already satisfied: attrs>=17.3.0 in /usr/local/lib/python3.10/dist-packages (from aiohttp->datasets) (24.2.0)\n",
            "Requirement already satisfied: frozenlist>=1.1.1 in /usr/local/lib/python3.10/dist-packages (from aiohttp->datasets) (1.5.0)\n",
            "Requirement already satisfied: multidict<7.0,>=4.5 in /usr/local/lib/python3.10/dist-packages (from aiohttp->datasets) (6.1.0)\n",
            "Requirement already satisfied: propcache>=0.2.0 in /usr/local/lib/python3.10/dist-packages (from aiohttp->datasets) (0.2.0)\n",
            "Requirement already satisfied: yarl<2.0,>=1.17.0 in /usr/local/lib/python3.10/dist-packages (from aiohttp->datasets) (1.17.2)\n",
            "Requirement already satisfied: async-timeout<6.0,>=4.0 in /usr/local/lib/python3.10/dist-packages (from aiohttp->datasets) (4.0.3)\n",
            "Requirement already satisfied: typing-extensions>=3.7.4.3 in /usr/local/lib/python3.10/dist-packages (from huggingface-hub>=0.23.0->datasets) (4.12.2)\n",
            "Requirement already satisfied: charset-normalizer<4,>=2 in /usr/local/lib/python3.10/dist-packages (from requests>=2.32.2->datasets) (3.4.0)\n",
            "Requirement already satisfied: idna<4,>=2.5 in /usr/local/lib/python3.10/dist-packages (from requests>=2.32.2->datasets) (3.10)\n",
            "Requirement already satisfied: urllib3<3,>=1.21.1 in /usr/local/lib/python3.10/dist-packages (from requests>=2.32.2->datasets) (2.2.3)\n",
            "Requirement already satisfied: certifi>=2017.4.17 in /usr/local/lib/python3.10/dist-packages (from requests>=2.32.2->datasets) (2024.8.30)\n",
            "Requirement already satisfied: python-dateutil>=2.8.2 in /usr/local/lib/python3.10/dist-packages (from pandas->datasets) (2.8.2)\n",
            "Requirement already satisfied: pytz>=2020.1 in /usr/local/lib/python3.10/dist-packages (from pandas->datasets) (2024.2)\n",
            "Requirement already satisfied: tzdata>=2022.7 in /usr/local/lib/python3.10/dist-packages (from pandas->datasets) (2024.2)\n",
            "Requirement already satisfied: six>=1.5 in /usr/local/lib/python3.10/dist-packages (from python-dateutil>=2.8.2->pandas->datasets) (1.16.0)\n",
            "Downloading datasets-3.1.0-py3-none-any.whl (480 kB)\n",
            "\u001b[2K   \u001b[90m━━━━━━━━━━━━━━━━━━━━━━━━━━━━━━━━━━━━━━━━\u001b[0m \u001b[32m480.6/480.6 kB\u001b[0m \u001b[31m13.2 MB/s\u001b[0m eta \u001b[36m0:00:00\u001b[0m\n",
            "\u001b[?25hDownloading dill-0.3.8-py3-none-any.whl (116 kB)\n",
            "\u001b[2K   \u001b[90m━━━━━━━━━━━━━━━━━━━━━━━━━━━━━━━━━━━━━━━━\u001b[0m \u001b[32m116.3/116.3 kB\u001b[0m \u001b[31m12.7 MB/s\u001b[0m eta \u001b[36m0:00:00\u001b[0m\n",
            "\u001b[?25hDownloading fsspec-2024.9.0-py3-none-any.whl (179 kB)\n",
            "\u001b[2K   \u001b[90m━━━━━━━━━━━━━━━━━━━━━━━━━━━━━━━━━━━━━━━━\u001b[0m \u001b[32m179.3/179.3 kB\u001b[0m \u001b[31m18.3 MB/s\u001b[0m eta \u001b[36m0:00:00\u001b[0m\n",
            "\u001b[?25hDownloading multiprocess-0.70.16-py310-none-any.whl (134 kB)\n",
            "\u001b[2K   \u001b[90m━━━━━━━━━━━━━━━━━━━━━━━━━━━━━━━━━━━━━━━━\u001b[0m \u001b[32m134.8/134.8 kB\u001b[0m \u001b[31m15.8 MB/s\u001b[0m eta \u001b[36m0:00:00\u001b[0m\n",
            "\u001b[?25hDownloading xxhash-3.5.0-cp310-cp310-manylinux_2_17_x86_64.manylinux2014_x86_64.whl (194 kB)\n",
            "\u001b[2K   \u001b[90m━━━━━━━━━━━━━━━━━━━━━━━━━━━━━━━━━━━━━━━━\u001b[0m \u001b[32m194.1/194.1 kB\u001b[0m \u001b[31m21.1 MB/s\u001b[0m eta \u001b[36m0:00:00\u001b[0m\n",
            "\u001b[?25hInstalling collected packages: xxhash, fsspec, dill, multiprocess, datasets\n",
            "  Attempting uninstall: fsspec\n",
            "    Found existing installation: fsspec 2024.10.0\n",
            "    Uninstalling fsspec-2024.10.0:\n",
            "      Successfully uninstalled fsspec-2024.10.0\n",
            "\u001b[31mERROR: pip's dependency resolver does not currently take into account all the packages that are installed. This behaviour is the source of the following dependency conflicts.\n",
            "gcsfs 2024.10.0 requires fsspec==2024.10.0, but you have fsspec 2024.9.0 which is incompatible.\u001b[0m\u001b[31m\n",
            "\u001b[0mSuccessfully installed datasets-3.1.0 dill-0.3.8 fsspec-2024.9.0 multiprocess-0.70.16 xxhash-3.5.0\n"
          ]
        }
      ],
      "source": [
        "!pip install datasets"
      ]
    },
    {
      "cell_type": "code",
      "source": [
        "import pandas as pd\n",
        "import numpy as np\n",
        "import matplotlib.pyplot as plt\n",
        "import seaborn as sns\n",
        "from datasets import Dataset, ClassLabel\n",
        "from transformers import AutoTokenizer, AutoModelForSequenceClassification, Trainer, TrainingArguments\n",
        "from sklearn.metrics import accuracy_score, f1_score, confusion_matrix\n",
        "import torch"
      ],
      "metadata": {
        "id": "a6LrgNDeVuhq"
      },
      "execution_count": 2,
      "outputs": []
    },
    {
      "cell_type": "markdown",
      "source": [
        "and set the device for training"
      ],
      "metadata": {
        "id": "7iNxPgqZVz2Q"
      }
    },
    {
      "cell_type": "code",
      "source": [
        "device = torch.device(\"cuda\" if torch.cuda.is_available() else \"cpu\")\n",
        "print(f\"Using device: {device}\")"
      ],
      "metadata": {
        "colab": {
          "base_uri": "https://localhost:8080/"
        },
        "id": "gdlS-oyeV31z",
        "outputId": "60bdb299-d50b-4632-dae7-bc63c46df0b5"
      },
      "execution_count": 3,
      "outputs": [
        {
          "output_type": "stream",
          "name": "stdout",
          "text": [
            "Using device: cuda\n"
          ]
        }
      ]
    },
    {
      "cell_type": "markdown",
      "source": [
        " The decision to map and reduce the emotions from 28 to 6 categories was driven by the need to simplify the classification task while ensuring the model remains practical and generalizable. Many of the original 27 emotions in the dataset overlap in meaning or represent nuanced variations that are challenging for machine learning models to distinguish reliably, especially with limited data. By clustering similar emotions into broader categories—such as joy, sadness, anger, love, fear, and surprise—we improve the model's ability to learn robust features, enhance interpretability, and make it more applicable for real-world use cases, where broader emotional categories are often sufficient for actionable insights"
      ],
      "metadata": {
        "id": "xvY1GcJtV6kT"
      }
    },
    {
      "cell_type": "markdown",
      "source": [
        "Define emotion mappings for Dataset 1 (GoEmotions)\n"
      ],
      "metadata": {
        "id": "BhY_4bYMYQRV"
      }
    },
    {
      "cell_type": "code",
      "source": [
        "emotion_mapping_1 = {\n",
        "    0: 'joy', 1: 'joy', 2: 'anger', 3: 'anger', 4: 'love', 5: 'love',\n",
        "    6: 'fear', 7: 'joy', 8: 'love', 9: 'sadness', 10: 'anger', 11: 'anger',\n",
        "    12: 'sadness', 13: 'joy', 14: 'fear', 15: 'joy', 16: 'sadness',\n",
        "    17: 'joy', 18: 'love', 19: 'fear', 20: 'joy', 21: 'joy',\n",
        "    22: 'surprise', 23: 'joy', 24: 'sadness', 25: 'sadness', 26: 'surprise'\n",
        "}"
      ],
      "metadata": {
        "id": "_P8_u3xBY-sC"
      },
      "execution_count": 4,
      "outputs": []
    },
    {
      "cell_type": "markdown",
      "source": [
        "Define Class Labels for Dataset 2"
      ],
      "metadata": {
        "id": "Y3Gaw4A1cu0L"
      }
    },
    {
      "cell_type": "code",
      "source": [
        "class_labels = ClassLabel(names=[\"joy\", \"anger\", \"love\", \"sadness\", \"fear\", \"surprise\"])"
      ],
      "metadata": {
        "id": "QIX1rTZ_cxDV"
      },
      "execution_count": 5,
      "outputs": []
    },
    {
      "cell_type": "markdown",
      "source": [
        "Here we define the preprocessing functions"
      ],
      "metadata": {
        "id": "x-OD9efiZDNN"
      }
    },
    {
      "cell_type": "code",
      "source": [
        "def preprocess_dataset_1(file_path, emotion_mapping):\n",
        "    \"\"\"Preprocess GoEmotions Dataset\"\"\"\n",
        "    print(f\"Loading Dataset 1 from {file_path}\")\n",
        "    df = pd.read_csv(file_path, sep=\"\\t\", header=None, names=[\"text\", \"emotion_id\", \"id\"])\n",
        "\n",
        "    # Handle multi-label rows by taking the first valid emotion_id\n",
        "    df[\"emotion_id\"] = df[\"emotion_id\"].apply(\n",
        "        lambda x: int(str(x).split(\",\")[0]) if pd.notnull(x) else None\n",
        "    )\n",
        "\n",
        "    # Map emotion_id to labels\n",
        "    df[\"label\"] = df[\"emotion_id\"].map(emotion_mapping)\n",
        "\n",
        "    # Drop rows with missing or invalid labels\n",
        "    df = df.dropna(subset=[\"label\"])\n",
        "\n",
        "    # Keep only relevant columns\n",
        "    df = df[[\"text\", \"label\"]]\n",
        "    print(f\"Processed Dataset 1 with {len(df)} rows\")\n",
        "    return df\n",
        "\n",
        "def preprocess_dataset_2(file_path):\n",
        "    \"\"\"Preprocess Custom Dataset\"\"\"\n",
        "    print(f\"Loading Dataset 2 from {file_path}\")\n",
        "    df = pd.read_csv(file_path, sep=\";\", header=None, names=[\"text\", \"label\"])\n",
        "    print(f\"Processed Dataset 2 with {len(df)} rows\")\n",
        "    return df"
      ],
      "metadata": {
        "id": "VAuh7GDvZBVb"
      },
      "execution_count": 6,
      "outputs": []
    },
    {
      "cell_type": "markdown",
      "source": [
        "Augmentation Function"
      ],
      "metadata": {
        "id": "s8JBnKMOZIE5"
      }
    },
    {
      "cell_type": "code",
      "source": [
        "def augment_minority_classes(df, majority_class):\n",
        "    \"\"\"Augment minority classes to match the majority class size\"\"\"\n",
        "    max_class_size = df[\"label\"].value_counts()[majority_class]\n",
        "    augmented_df = df.copy()\n",
        "\n",
        "    for label in df[\"label\"].unique():\n",
        "        class_rows = df[df[\"label\"] == label]\n",
        "        num_to_duplicate = max_class_size - len(class_rows)\n",
        "        if num_to_duplicate > 0:\n",
        "            duplicated_rows = class_rows.sample(n=num_to_duplicate, replace=True, random_state=42)\n",
        "            augmented_df = pd.concat([augmented_df, duplicated_rows], ignore_index=True)\n",
        "            print(f\"Augmented class '{label}' by duplicating {num_to_duplicate} rows.\")\n",
        "\n",
        "    return augmented_df"
      ],
      "metadata": {
        "id": "J8qOjn2WZHgU"
      },
      "execution_count": 7,
      "outputs": []
    },
    {
      "cell_type": "markdown",
      "source": [
        "Visualization Functions"
      ],
      "metadata": {
        "id": "h_7SIkmEZQFk"
      }
    },
    {
      "cell_type": "code",
      "source": [
        "def plot_class_distribution(df, title):\n",
        "    \"\"\"Plot the class distribution\"\"\"\n",
        "    df[\"label\"].value_counts().plot(kind=\"bar\", color=\"skyblue\")\n",
        "    plt.title(f\"Class Distribution: {title}\")\n",
        "    plt.xlabel(\"Labels\")\n",
        "    plt.ylabel(\"Frequency\")\n",
        "    plt.show()"
      ],
      "metadata": {
        "id": "uZW61ydbZRna"
      },
      "execution_count": 8,
      "outputs": []
    },
    {
      "cell_type": "markdown",
      "source": [
        "File Paths"
      ],
      "metadata": {
        "id": "DMd_fTTwZU37"
      }
    },
    {
      "cell_type": "code",
      "source": [
        "# File paths\n",
        "file_paths_1 = {\n",
        "    \"train\": \"/content/sample_data/goemotionstrain.tsv\",\n",
        "    \"val\": \"/content/sample_data/goemotionsval.tsv\",\n",
        "    \"test\": \"/content/sample_data/goemotionstest.tsv\",\n",
        "}\n",
        "file_paths_2 = {\n",
        "    \"train\": \"/content/sample_data/train.txt\",\n",
        "    \"val\": \"/content/sample_data/val.txt\",\n",
        "    \"test\": \"/content/sample_data/test.txt\",\n",
        "}"
      ],
      "metadata": {
        "id": "diDuZPXFZV48"
      },
      "execution_count": 9,
      "outputs": []
    },
    {
      "cell_type": "markdown",
      "source": [
        "Tokenization"
      ],
      "metadata": {
        "id": "GwPBkAmaa_Xz"
      }
    },
    {
      "cell_type": "code",
      "source": [
        "tokenizer = AutoTokenizer.from_pretrained(\"distilbert-base-uncased\")"
      ],
      "metadata": {
        "colab": {
          "base_uri": "https://localhost:8080/",
          "height": 274,
          "referenced_widgets": [
            "050554b5f81d456c836af90d92b25f32",
            "fce24763ba514ee4a589435c3b1d2e4f",
            "df87c63ffe3145639642ad529ff0b589",
            "18c5fcd260924209ba2bc2172f2ee214",
            "fa760397287c40ba89bb515d8a14213c",
            "f80142477c7c406d82d0002a0e33c98d",
            "b9b144adcc4444b4bf2846c2d5d066e1",
            "f4856499c0e3428198159eb36186ee4a",
            "8f3bf5670020431dbb45627d7d45eec8",
            "5f0fe3c9b2624271a719388eefc6a444",
            "183d6ea2b89344648e52609578ad418b",
            "d2134c8d0f43496db8ea9a3125c533f5",
            "b96799dd498b4e19acc81ea9321221f6",
            "74fa60c8c4814c24bb2970feb9a8f498",
            "25523a9000fc4bb5a662c7ab72afc3cb",
            "ef2424478654460db507dc871fa6f753",
            "5ed06dac3f864dff94820a4cdfe0b7b1",
            "1c275121d2e24140a41b9f54208bc954",
            "ff9bafaa360c420e9434dc1b07938af5",
            "351b5527bcf0464a80b5333bff0b0dbe",
            "ef275bc30b1449cb9e6f1aeda96adac6",
            "a6c18e8863b84a8ba453a4689cea41ca",
            "1c141f7a5741404cb78442e65226de41",
            "0fa2c35eccfc495ca087c09a0cb6f864",
            "28abe172b91043c183a8c03c2f0d702a",
            "b0b81a27c4d9461582831866c44cd643",
            "0a5cecb4951540f88f6dc3ebc6239128",
            "b4d6e4054efc475fbebdc320e6fca546",
            "a3f90b26984a4b51bfdb3ac706a70bc2",
            "176010a2aa434cc092884efac7c95e6e",
            "38251fdcad7a46f3b95388868ff27a81",
            "d5dc5d735ab64a6ea90ee3336dbf437f",
            "adb33b199f124ff2812d021ba88c4d96",
            "3cf66c2c12434438920a8795e4c00be5",
            "dc670f7088cb454fbd4f2032145891ec",
            "91fd139cd9ce4ef3b06d3984b5320f31",
            "6a1d9c676edf4adcb7f2db4a5ece5dcd",
            "5db6d63d33bf4cf0a78198c8e049a35c",
            "3976ec7e0c964224a51a64e5098b44ee",
            "8ce13723f5c44a39bf9e2ffc97bde95f",
            "583670db84a04e368f476f1e5f4e5164",
            "1dd771ad28a54990a0e7bd2c2c6b89a2",
            "183f1b6493c343c28c9895ccb3febde9",
            "b150b346d91a4626b038319d29b15684"
          ]
        },
        "id": "g0hjUJdPbA4D",
        "outputId": "e498013b-cec0-4f67-89da-1f45a17d932f"
      },
      "execution_count": 10,
      "outputs": [
        {
          "output_type": "stream",
          "name": "stderr",
          "text": [
            "/usr/local/lib/python3.10/dist-packages/huggingface_hub/utils/_auth.py:94: UserWarning: \n",
            "The secret `HF_TOKEN` does not exist in your Colab secrets.\n",
            "To authenticate with the Hugging Face Hub, create a token in your settings tab (https://huggingface.co/settings/tokens), set it as secret in your Google Colab and restart your session.\n",
            "You will be able to reuse this secret in all of your notebooks.\n",
            "Please note that authentication is recommended but still optional to access public models or datasets.\n",
            "  warnings.warn(\n"
          ]
        },
        {
          "output_type": "display_data",
          "data": {
            "text/plain": [
              "tokenizer_config.json:   0%|          | 0.00/48.0 [00:00<?, ?B/s]"
            ],
            "application/vnd.jupyter.widget-view+json": {
              "version_major": 2,
              "version_minor": 0,
              "model_id": "050554b5f81d456c836af90d92b25f32"
            }
          },
          "metadata": {}
        },
        {
          "output_type": "display_data",
          "data": {
            "text/plain": [
              "config.json:   0%|          | 0.00/483 [00:00<?, ?B/s]"
            ],
            "application/vnd.jupyter.widget-view+json": {
              "version_major": 2,
              "version_minor": 0,
              "model_id": "d2134c8d0f43496db8ea9a3125c533f5"
            }
          },
          "metadata": {}
        },
        {
          "output_type": "display_data",
          "data": {
            "text/plain": [
              "vocab.txt:   0%|          | 0.00/232k [00:00<?, ?B/s]"
            ],
            "application/vnd.jupyter.widget-view+json": {
              "version_major": 2,
              "version_minor": 0,
              "model_id": "1c141f7a5741404cb78442e65226de41"
            }
          },
          "metadata": {}
        },
        {
          "output_type": "display_data",
          "data": {
            "text/plain": [
              "tokenizer.json:   0%|          | 0.00/466k [00:00<?, ?B/s]"
            ],
            "application/vnd.jupyter.widget-view+json": {
              "version_major": 2,
              "version_minor": 0,
              "model_id": "3cf66c2c12434438920a8795e4c00be5"
            }
          },
          "metadata": {}
        }
      ]
    },
    {
      "cell_type": "markdown",
      "source": [
        "Tokenization Function"
      ],
      "metadata": {
        "id": "P8CuyF-BaKpC"
      }
    },
    {
      "cell_type": "code",
      "source": [
        "# Step 1: Clean the Dataset\n",
        "def clean_dataset(dataset):\n",
        "    dataset = dataset[dataset['text'].apply(lambda x: isinstance(x, str))]\n",
        "    dataset.reset_index(drop=True, inplace=True)\n",
        "    return dataset\n",
        "\n",
        "# Step 2: Encode Labels\n",
        "def encode_labels(dataset, label_mapping):\n",
        "    dataset['label'] = dataset['label'].map(label_mapping)\n",
        "    return dataset\n",
        "\n",
        "# Step 3: Tokenize and Convert to Hugging Face Dataset\n",
        "def tokenize_and_convert_to_dataset(dataset, tokenizer):\n",
        "    def tokenize_function(examples):\n",
        "        return tokenizer(examples['text'], padding=True, truncation=True)\n",
        "\n",
        "    hf_dataset = Dataset.from_pandas(dataset)\n",
        "    tokenized_dataset = hf_dataset.map(tokenize_function, batched=True)\n",
        "    return tokenized_dataset\n",
        "\n",
        "# Label Mappings\n",
        "label_mapping_1 = {\"joy\": 0, \"anger\": 1, \"love\": 2, \"sadness\": 3, \"fear\": 4, \"surprise\": 5}\n",
        "label_mapping_2 = {\"joy\": 0, \"anger\": 1, \"love\": 2, \"sadness\": 3, \"fear\": 4, \"surprise\": 5}"
      ],
      "metadata": {
        "id": "B6_FsLflbDh8"
      },
      "execution_count": 11,
      "outputs": []
    },
    {
      "cell_type": "markdown",
      "source": [
        "##Data Part"
      ],
      "metadata": {
        "id": "wG-pKnYAYgGS"
      }
    },
    {
      "cell_type": "markdown",
      "source": [
        "## Dataset 1: Preprocessing (GoEmotions)\n",
        "\n",
        "The **GoEmotions** dataset is a multi-label dataset where each text sample is annotated with one or more emotion IDs. To use this dataset for single-label classification, we:\n",
        "1. **Mapped emotion IDs to meaningful labels** using a predefined mapping.\n",
        "2. **Handled multi-label samples** by selecting the first valid emotion ID.\n",
        "3. **Dropped invalid rows** with missing or unmapped emotion IDs.\n"
      ],
      "metadata": {
        "id": "u8Onh2V0Yina"
      }
    },
    {
      "cell_type": "code",
      "source": [
        "# Preprocess datasets\n",
        "print(\"\\nProcessing Dataset 1 (GoEmotions)...\")\n",
        "train_1 = preprocess_dataset_1(file_paths_1[\"train\"], emotion_mapping_1)\n",
        "val_1 = preprocess_dataset_1(file_paths_1[\"val\"], emotion_mapping_1)\n",
        "test_1 = preprocess_dataset_1(file_paths_1[\"test\"], emotion_mapping_1)\n",
        "\n",
        "plot_class_distribution(train_1, \"Dataset 1 (Before Augmentation)\")"
      ],
      "metadata": {
        "colab": {
          "base_uri": "https://localhost:8080/",
          "height": 660
        },
        "id": "POWPxCVQYoXi",
        "outputId": "dc091ce9-e6e6-413b-fae5-82b2c674d173"
      },
      "execution_count": 12,
      "outputs": [
        {
          "output_type": "stream",
          "name": "stdout",
          "text": [
            "\n",
            "Processing Dataset 1 (GoEmotions)...\n",
            "Loading Dataset 1 from /content/sample_data/goemotionstrain.tsv\n",
            "Processed Dataset 1 with 30587 rows\n",
            "Loading Dataset 1 from /content/sample_data/goemotionsval.tsv\n",
            "Processed Dataset 1 with 3834 rows\n",
            "Loading Dataset 1 from /content/sample_data/goemotionstest.tsv\n",
            "Processed Dataset 1 with 3821 rows\n"
          ]
        },
        {
          "output_type": "display_data",
          "data": {
            "text/plain": [
              "<Figure size 640x480 with 1 Axes>"
            ],
            "image/png": "[encoded data removed]"
          },
          "metadata": {}
        }
      ]
    },
    {
      "cell_type": "markdown",
      "source": [
        "## Dataset 1: Data Augmentation\n",
        "\n",
        "The class distribution in the GoEmotions dataset is imbalanced, with some emotions occurring far less frequently than others. To address this:\n",
        "- We identify the majority class (e.g., \"joy\") and duplicate samples from minority classes to match its size.\n",
        "- This approach helps the model learn more robust features for all classes.\n",
        "\n",
        "### Key Benefits:\n",
        "- Prevents overfitting to majority classes.\n",
        "- Encourages the model to generalize better across all emotions.\n"
      ],
      "metadata": {
        "id": "JDySiEXUZ7xO"
      }
    },
    {
      "cell_type": "code",
      "source": [
        "# Augment Dataset 1\n",
        "train_1_augmented = augment_minority_classes(train_1, majority_class=\"joy\")\n",
        "\n",
        "# Display class distribution after augmentation\n",
        "print(\"\\nClass Distribution After Augmentation (Dataset 1):\")\n",
        "plot_class_distribution(train_1_augmented, \"Dataset 1 (After Augmentation)\")\n"
      ],
      "metadata": {
        "colab": {
          "base_uri": "https://localhost:8080/",
          "height": 642
        },
        "id": "WD3u89nbaAr0",
        "outputId": "a7bdd2e9-1ffa-48e9-d752-b560ebada669"
      },
      "execution_count": 13,
      "outputs": [
        {
          "output_type": "stream",
          "name": "stdout",
          "text": [
            "Augmented class 'anger' by duplicating 7166 rows.\n",
            "Augmented class 'fear' by duplicating 11199 rows.\n",
            "Augmented class 'surprise' by duplicating 11633 rows.\n",
            "Augmented class 'love' by duplicating 7444 rows.\n",
            "Augmented class 'sadness' by duplicating 10463 rows.\n",
            "\n",
            "Class Distribution After Augmentation (Dataset 1):\n"
          ]
        },
        {
          "output_type": "display_data",
          "data": {
            "text/plain": [
              "<Figure size 640x480 with 1 Axes>"
            ],
            "image/png": "[encoded data removed]"
          },
          "metadata": {}
        }
      ]
    },
    {
      "cell_type": "markdown",
      "source": [
        "## Dataset 2: Preprocessing (Custom Dataset)\n",
        "\n",
        "The custom dataset has a simpler structure: each sample is a sentence paired with a single label in `{sentence;label}` format. For this dataset:\n",
        "1. We split the text and labels based on the `;` delimiter.\n",
        "2. We ensured the text column is clean and free of invalid entries.\n",
        "\n",
        "This straightforward format makes the preprocessing step less complex than GoEmotions.\n"
      ],
      "metadata": {
        "id": "EgPR9CyXaajK"
      }
    },
    {
      "cell_type": "code",
      "source": [
        "# Process Custom Dataset\n",
        "train_2 = preprocess_dataset_2(file_paths_2[\"train\"])\n",
        "val_2 = preprocess_dataset_2(file_paths_2[\"val\"])\n",
        "test_2 = preprocess_dataset_2(file_paths_2[\"test\"])\n",
        "\n",
        "# Display class distribution before augmentation\n",
        "print(\"\\nClass Distribution Before Augmentation (Dataset 2):\")\n",
        "plot_class_distribution(train_2, \"Dataset 2 (Before Augmentation)\")\n"
      ],
      "metadata": {
        "colab": {
          "base_uri": "https://localhost:8080/",
          "height": 660
        },
        "id": "Zbgd90WkahcZ",
        "outputId": "f208273b-cc87-489d-9c3c-c57517517b37"
      },
      "execution_count": 14,
      "outputs": [
        {
          "output_type": "stream",
          "name": "stdout",
          "text": [
            "Loading Dataset 2 from /content/sample_data/train.txt\n",
            "Processed Dataset 2 with 16000 rows\n",
            "Loading Dataset 2 from /content/sample_data/val.txt\n",
            "Processed Dataset 2 with 2000 rows\n",
            "Loading Dataset 2 from /content/sample_data/test.txt\n",
            "Processed Dataset 2 with 2000 rows\n",
            "\n",
            "Class Distribution Before Augmentation (Dataset 2):\n"
          ]
        },
        {
          "output_type": "display_data",
          "data": {
            "text/plain": [
              "<Figure size 640x480 with 1 Axes>"
            ],
            "image/png": "[encoded data removed]"
          },
          "metadata": {}
        }
      ]
    },
    {
      "cell_type": "markdown",
      "source": [
        "## Dataset 2: Data Augmentation\n",
        "\n",
        "The custom dataset also has an imbalanced class distribution. We apply the same augmentation approach used for GoEmotions to balance the class sizes.\n"
      ],
      "metadata": {
        "id": "osOMleY6apQF"
      }
    },
    {
      "cell_type": "code",
      "source": [
        "# Augment Dataset 2\n",
        "train_2_augmented = augment_minority_classes(train_2, majority_class=train_2[\"label\"].value_counts().idxmax())\n",
        "\n",
        "# Display class distribution after augmentation\n",
        "print(\"\\nClass Distribution After Augmentation (Dataset 2):\")\n",
        "plot_class_distribution(train_2_augmented, \"Dataset 2 (After Augmentation)\")\n"
      ],
      "metadata": {
        "colab": {
          "base_uri": "https://localhost:8080/",
          "height": 642
        },
        "id": "DIIRc7hvap_4",
        "outputId": "94a9d9c9-13cb-4824-cc38-f700722366dc"
      },
      "execution_count": 15,
      "outputs": [
        {
          "output_type": "stream",
          "name": "stdout",
          "text": [
            "Augmented class 'sadness' by duplicating 696 rows.\n",
            "Augmented class 'anger' by duplicating 3203 rows.\n",
            "Augmented class 'love' by duplicating 4058 rows.\n",
            "Augmented class 'surprise' by duplicating 4790 rows.\n",
            "Augmented class 'fear' by duplicating 3425 rows.\n",
            "\n",
            "Class Distribution After Augmentation (Dataset 2):\n"
          ]
        },
        {
          "output_type": "display_data",
          "data": {
            "text/plain": [
              "<Figure size 640x480 with 1 Axes>"
            ],
            "image/png": "[encoded data removed]"
          },
          "metadata": {}
        }
      ]
    },
    {
      "cell_type": "markdown",
      "source": [
        "## Tokenization\n",
        "\n",
        "To prepare the text for training, we tokenize the sentences using the DistilBERT tokenizer. Tokenization ensures the text is converted into input IDs and attention masks suitable for the model.\n"
      ],
      "metadata": {
        "id": "H4hT0e_kav23"
      }
    },
    {
      "cell_type": "code",
      "source": [
        "# Dataset 1 Preprocessing\n",
        "train_1_cleaned = clean_dataset(train_1_augmented)\n",
        "val_1_cleaned = clean_dataset(val_1)\n",
        "test_1_cleaned = clean_dataset(test_1)\n",
        "\n",
        "train_1_cleaned = encode_labels(train_1_cleaned, label_mapping_1)\n",
        "val_1_cleaned = encode_labels(val_1_cleaned, label_mapping_1)\n",
        "test_1_cleaned = encode_labels(test_1_cleaned, label_mapping_1)\n",
        "\n",
        "train_ds_1 = tokenize_and_convert_to_dataset(train_1_cleaned, tokenizer)\n",
        "val_ds_1 = tokenize_and_convert_to_dataset(val_1_cleaned, tokenizer)\n",
        "test_ds_1 = tokenize_and_convert_to_dataset(test_1_cleaned, tokenizer)\n",
        "\n",
        "# Dataset 2 Preprocessing\n",
        "train_2_cleaned = clean_dataset(train_2_augmented)\n",
        "val_2_cleaned = clean_dataset(val_2)\n",
        "test_2_cleaned = clean_dataset(test_2)\n",
        "\n",
        "train_2_cleaned = encode_labels(train_2_cleaned, label_mapping_2)\n",
        "val_2_cleaned = encode_labels(val_2_cleaned, label_mapping_2)\n",
        "test_2_cleaned = encode_labels(test_2_cleaned, label_mapping_2)\n",
        "\n",
        "train_ds_2 = tokenize_and_convert_to_dataset(train_2_cleaned, tokenizer)\n",
        "val_ds_2 = tokenize_and_convert_to_dataset(val_2_cleaned, tokenizer)\n",
        "test_ds_2 = tokenize_and_convert_to_dataset(test_2_cleaned, tokenizer)"
      ],
      "metadata": {
        "colab": {
          "base_uri": "https://localhost:8080/",
          "height": 209,
          "referenced_widgets": [
            "f0712b0678c54a25871dcea4c09bd5d2",
            "72f99eff6f87453186f79a18066d089f",
            "854d3898fc384746a6fd6f00092e7142",
            "da9fc27651a24e19bd460c7d02999dbb",
            "6d05a6ccdefd43adaa48c1b0762c2293",
            "73161d9df753481395d803684a5f22fa",
            "dea8723df7cf4328a0144ae66b039119",
            "99025085404f4f04bccb0e00f64e854d",
            "417b1b9b75f84998b11e71103d2a20ed",
            "595b211787dc49a583483b8d762f198e",
            "a186f1a4751b4f468a78455d3f50fe85",
            "4668cbaaa72c4fcc87662a2869e66e1f",
            "a2957161cdc046d3a27b10947f4fcaac",
            "e1f1fa97fbe04981989e7457c431c713",
            "b0799984fd1a428e8e43dccbd829ce10",
            "bf54d503082e4f979cd9ed23aa82a8a3",
            "2b873e0a7e5846cbb7dd2b825cfacddb",
            "ae4d5f8a97d9425b98156e37d62daae9",
            "b8725abf7ad4451789fbef1ada217c8e",
            "6ff1589ab2c34361b1f618475160b9b0",
            "2bc670277e7846799fa739d86a8aff6a",
            "8d5635af0cd2463ba18106491f3ba1ec",
            "e68ceac566d549b1ac8b4c4be67ed7b2",
            "8e754b85ce994e58aa1e994f341ba64c",
            "751349ff52e74c3692c1602c782371e2",
            "e1b5b164238d415bb1f4cfe348750162",
            "33cea330631a47108d2ee167b47abd67",
            "cb93e375068844d29370727dbee264a1",
            "aba1abf3f6454180a6771e75e4700c39",
            "22c6ecb4849e4e6b99440092d5b27449",
            "e99ae245b44e4144b97bd789f4b751a4",
            "aa6b33d147e342e2bef09a0cf0a2d801",
            "21b5a45f3d794d12a76093e2c8219b0c",
            "ce5202f7f7a947eb9a157b6a4cbf52cf",
            "ba56e09381364371877c4da55f8decd0",
            "f1c4b1f9c629430b8fc80ee00b6197d4",
            "02f833715d354071a8f901dda6f2c526",
            "da8bdf55d541454da6c8b6cc3c19ac4b",
            "8a47380facef4bf5bac2e417ce06fa89",
            "a2df3aa50d7f4a1dad4e33e7aad8f391",
            "d7e0a658ac8545c8a371eaf77777db17",
            "60ec4271ac494127b069805817fed239",
            "1d9d91d2d0fa45fb9f808063a244c680",
            "14f8fb1a07994f0cabaf3ab88df9b4ca",
            "275c0cf07a664e95aa681587d92cb76e",
            "7b9e2b69fe0a44bca588eb81f9917bf4",
            "f66cbe90ba724a9a8d96babbbb784db7",
            "e2c8f7a3776a49299a9635fd26b637d2",
            "879fc21611744203899a920f12a6090c",
            "cf2a75f39cb6410fba6262ece70401e8",
            "35958e1655484f599269151acdb009d5",
            "e7deb99c44cf479e90dc0b616bb74874",
            "5991384c3c784d8c95d49956f302d23f",
            "6757a1eeb21146b0ba57401e4e2ccba7",
            "b2ba06f2aacb41959ee8103b919ad136",
            "b74727dbfe06464c8b18f9efc6b7ff22",
            "c9c0594d274a4ab7bb3eced37be08e25",
            "2fd2d45a0cb64f67b9d11c162f10e6c0",
            "9af526ca7c5b440c815068e58efa0fa4",
            "ff62b88cf5b248a080f06f319af25418",
            "8f432413d7794338abed661c9cfd63b6",
            "1eb1dee7f2a04ffa9cea1c288c552f19",
            "a4c86c3fbb9a4031920dcbbd22e87a4b",
            "dd46c9da96ff4011b0dc1258b77c0697",
            "467f6947bad14a45ab7740026e4d7eac",
            "29f2cbe836154b52a82ec5194cc962e5"
          ]
        },
        "id": "lJV6Rxvoaw1P",
        "outputId": "de1b8769-c3e7-444a-9434-e45ad37444f2"
      },
      "execution_count": 16,
      "outputs": [
        {
          "output_type": "display_data",
          "data": {
            "text/plain": [
              "Map:   0%|          | 0/78492 [00:00<?, ? examples/s]"
            ],
            "application/vnd.jupyter.widget-view+json": {
              "version_major": 2,
              "version_minor": 0,
              "model_id": "f0712b0678c54a25871dcea4c09bd5d2"
            }
          },
          "metadata": {}
        },
        {
          "output_type": "display_data",
          "data": {
            "text/plain": [
              "Map:   0%|          | 0/3834 [00:00<?, ? examples/s]"
            ],
            "application/vnd.jupyter.widget-view+json": {
              "version_major": 2,
              "version_minor": 0,
              "model_id": "4668cbaaa72c4fcc87662a2869e66e1f"
            }
          },
          "metadata": {}
        },
        {
          "output_type": "display_data",
          "data": {
            "text/plain": [
              "Map:   0%|          | 0/3821 [00:00<?, ? examples/s]"
            ],
            "application/vnd.jupyter.widget-view+json": {
              "version_major": 2,
              "version_minor": 0,
              "model_id": "e68ceac566d549b1ac8b4c4be67ed7b2"
            }
          },
          "metadata": {}
        },
        {
          "output_type": "display_data",
          "data": {
            "text/plain": [
              "Map:   0%|          | 0/32172 [00:00<?, ? examples/s]"
            ],
            "application/vnd.jupyter.widget-view+json": {
              "version_major": 2,
              "version_minor": 0,
              "model_id": "ce5202f7f7a947eb9a157b6a4cbf52cf"
            }
          },
          "metadata": {}
        },
        {
          "output_type": "display_data",
          "data": {
            "text/plain": [
              "Map:   0%|          | 0/2000 [00:00<?, ? examples/s]"
            ],
            "application/vnd.jupyter.widget-view+json": {
              "version_major": 2,
              "version_minor": 0,
              "model_id": "275c0cf07a664e95aa681587d92cb76e"
            }
          },
          "metadata": {}
        },
        {
          "output_type": "display_data",
          "data": {
            "text/plain": [
              "Map:   0%|          | 0/2000 [00:00<?, ? examples/s]"
            ],
            "application/vnd.jupyter.widget-view+json": {
              "version_major": 2,
              "version_minor": 0,
              "model_id": "b74727dbfe06464c8b18f9efc6b7ff22"
            }
          },
          "metadata": {}
        }
      ]
    },
    {
      "cell_type": "code",
      "source": [
        "print(train_1_cleaned[\"label\"].unique())  # Should output [0, 1, 2, 3, 4, 5]\n",
        "print(train_2_cleaned[\"label\"].unique())  # Should output [0, 1, 2, 3, 4, 5]\n"
      ],
      "metadata": {
        "colab": {
          "base_uri": "https://localhost:8080/"
        },
        "id": "DDBp8wiXfNf8",
        "outputId": "1c215262-d020-4188-b87c-66cbf3336ada"
      },
      "execution_count": 17,
      "outputs": [
        {
          "output_type": "stream",
          "name": "stdout",
          "text": [
            "[1 4 5 0 2 3]\n",
            "[3 1 2 5 4 0]\n"
          ]
        }
      ]
    },
    {
      "cell_type": "markdown",
      "source": [
        "## Model Training\n",
        "\n",
        "We train separate DistilBERT models for each dataset. Each model is fine-tuned using the augmented training data, with validation sets used for evaluation during training.\n"
      ],
      "metadata": {
        "id": "G45flyGqbZUq"
      }
    },
    {
      "cell_type": "code",
      "source": [
        "# Training function\n",
        "def train_model(train_dataset, val_dataset, num_labels, model_name=\"distilbert-base-uncased\"):\n",
        "    model = AutoModelForSequenceClassification.from_pretrained(model_name, num_labels=num_labels).to(device)\n",
        "    training_args = TrainingArguments(\n",
        "    output_dir=\"./emotion_model\",  # Specify the directory to save model checkpoints\n",
        "    evaluation_strategy=\"epoch\",\n",
        "    save_strategy=\"epoch\",\n",
        "    learning_rate=2e-5,\n",
        "    per_device_train_batch_size=16,\n",
        "    per_device_eval_batch_size=16,\n",
        "    num_train_epochs=3,\n",
        "    weight_decay=0.01,\n",
        ")\n",
        "\n",
        "    trainer = Trainer(\n",
        "    model=model,\n",
        "    args=training_args,  # output_dir is already part of training_args\n",
        "    train_dataset=train_dataset,\n",
        "    eval_dataset=val_dataset,\n",
        "    tokenizer=tokenizer,\n",
        "    compute_metrics=lambda p: {\n",
        "        \"accuracy\": accuracy_score(p.label_ids, np.argmax(p.predictions, axis=1)),\n",
        "        \"f1\": f1_score(p.label_ids, np.argmax(p.predictions, axis=1), average=\"weighted\"),\n",
        "    },\n",
        ")\n",
        "\n",
        "    trainer.train()\n",
        "    return trainer"
      ],
      "metadata": {
        "id": "iV57Tg0ybaKc"
      },
      "execution_count": 20,
      "outputs": []
    },
    {
      "cell_type": "code",
      "source": [
        "# Train models\n",
        "print(\"\\nTraining model on Dataset 1...\")\n",
        "trainer_1 = train_model(train_ds_1, val_ds_1, num_labels=6)\n",
        "\n",
        "print(\"\\nTraining model on Dataset 2...\")\n",
        "trainer_2 = train_model(train_ds_2, val_ds_2, num_labels=len(train_2_augmented[\"label\"].unique()))\n"
      ],
      "metadata": {
        "colab": {
          "base_uri": "https://localhost:8080/",
          "height": 950
        },
        "collapsed": true,
        "id": "H5ZBodJrbdTo",
        "outputId": "bd232463-08e8-4e38-d30e-b935bf573bb2"
      },
      "execution_count": 21,
      "outputs": [
        {
          "metadata": {
            "tags": null
          },
          "name": "stdout",
          "output_type": "stream",
          "text": [
            "\n",
            "Training model on Dataset 1...\n"
          ]
        },
        {
          "metadata": {
            "tags": null
          },
          "name": "stderr",
          "output_type": "stream",
          "text": [
            "Some weights of DistilBertForSequenceClassification were not initialized from the model checkpoint at distilbert-base-uncased and are newly initialized: ['classifier.bias', 'classifier.weight', 'pre_classifier.bias', 'pre_classifier.weight']\n",
            "You should probably TRAIN this model on a down-stream task to be able to use it for predictions and inference.\n",
            "/usr/local/lib/python3.10/dist-packages/transformers/training_args.py:1568: FutureWarning: `evaluation_strategy` is deprecated and will be removed in version 4.46 of 🤗 Transformers. Use `eval_strategy` instead\n",
            "  warnings.warn(\n",
            "<ipython-input-20-81d5fcada657>:15: FutureWarning: `tokenizer` is deprecated and will be removed in version 5.0.0 for `Trainer.__init__`. Use `processing_class` instead.\n",
            "  trainer = Trainer(\n",
            "\u001b[34m\u001b[1mwandb\u001b[0m: \u001b[33mWARNING\u001b[0m The `run_name` is currently set to the same value as `TrainingArguments.output_dir`. If this was not intended, please specify a different run name by setting the `TrainingArguments.run_name` parameter.\n",
            "\u001b[34m\u001b[1mwandb\u001b[0m: Using wandb-core as the SDK backend.  Please refer to https://wandb.me/wandb-core for more information.\n"
          ]
        },
        {
          "data": {
            "application/javascript": [
              "\n",
              "        window._wandbApiKey = new Promise((resolve, reject) => {\n",
              "            function loadScript(url) {\n",
              "            return new Promise(function(resolve, reject) {\n",
              "                let newScript = document.createElement(\"script\");\n",
              "                newScript.onerror = reject;\n",
              "                newScript.onload = resolve;\n",
              "                document.body.appendChild(newScript);\n",
              "                newScript.src = url;\n",
              "            });\n",
              "            }\n",
              "            loadScript(\"https://cdn.jsdelivr.net/npm/postmate/build/postmate.min.js\").then(() => {\n",
              "            const iframe = document.createElement('iframe')\n",
              "            iframe.style.cssText = \"width:0;height:0;border:none\"\n",
              "            document.body.appendChild(iframe)\n",
              "            const handshake = new Postmate({\n",
              "                container: iframe,\n",
              "                url: 'https://wandb.ai/authorize'\n",
              "            });\n",
              "            const timeout = setTimeout(() => reject(\"Couldn't auto authenticate\"), 5000)\n",
              "            handshake.then(function(child) {\n",
              "                child.on('authorize', data => {\n",
              "                    clearTimeout(timeout)\n",
              "                    resolve(data)\n",
              "                });\n",
              "            });\n",
              "            })\n",
              "        });\n",
              "    "
            ],
            "text/plain": [
              "<IPython.core.display.Javascript object>"
            ]
          },
          "metadata": {},
          "output_type": "display_data"
        },
        {
          "metadata": {
            "tags": null
          },
          "name": "stderr",
          "output_type": "stream",
          "text": [
            "\u001b[34m\u001b[1mwandb\u001b[0m: Logging into wandb.ai. (Learn how to deploy a W&B server locally: https://wandb.me/wandb-server)\n",
            "\u001b[34m\u001b[1mwandb\u001b[0m: You can find your API key in your browser here: https://wandb.ai/authorize\n",
            "wandb: Paste an API key from your profile and hit enter, or press ctrl+c to quit:\u001b[34m\u001b[1mwandb\u001b[0m: Appending key for api.wandb.ai to your netrc file: /root/.netrc\n"
          ]
        },
        {
          "data": {
            "text/html": [
              "Tracking run with wandb version 0.18.7"
            ],
            "text/plain": [
              "<IPython.core.display.HTML object>"
            ]
          },
          "metadata": {},
          "output_type": "display_data"
        },
        {
          "data": {
            "text/html": [
              "Run data is saved locally in <code>/content/wandb/run-20241203_052227-av78w3r6</code>"
            ],
            "text/plain": [
              "<IPython.core.display.HTML object>"
            ]
          },
          "metadata": {},
          "output_type": "display_data"
        },
        {
          "data": {
            "text/html": [
              "Syncing run <strong><a href='https://wandb.ai/stefaniesamaha15-american-university-of-beirut/huggingface/runs/av78w3r6' target=\"_blank\">./emotion_model</a></strong> to <a href='https://wandb.ai/stefaniesamaha15-american-university-of-beirut/huggingface' target=\"_blank\">Weights & Biases</a> (<a href='https://wandb.me/developer-guide' target=\"_blank\">docs</a>)<br/>"
            ],
            "text/plain": [
              "<IPython.core.display.HTML object>"
            ]
          },
          "metadata": {},
          "output_type": "display_data"
        },
        {
          "data": {
            "text/html": [
              " View project at <a href='https://wandb.ai/stefaniesamaha15-american-university-of-beirut/huggingface' target=\"_blank\">https://wandb.ai/stefaniesamaha15-american-university-of-beirut/huggingface</a>"
            ],
            "text/plain": [
              "<IPython.core.display.HTML object>"
            ]
          },
          "metadata": {},
          "output_type": "display_data"
        },
        {
          "data": {
            "text/html": [
              " View run at <a href='https://wandb.ai/stefaniesamaha15-american-university-of-beirut/huggingface/runs/av78w3r6' target=\"_blank\">https://wandb.ai/stefaniesamaha15-american-university-of-beirut/huggingface/runs/av78w3r6</a>"
            ],
            "text/plain": [
              "<IPython.core.display.HTML object>"
            ]
          },
          "metadata": {},
          "output_type": "display_data"
        },
        {
          "data": {
            "text/html": [
              "\n",
              "    <div>\n",
              "      \n",
              "      <progress value='14718' max='14718' style='width:300px; height:20px; vertical-align: middle;'></progress>\n",
              "      [14718/14718 26:16, Epoch 3/3]\n",
              "    </div>\n",
              "    <table border=\"1\" class=\"dataframe\">\n",
              "  <thead>\n",
              " <tr style=\"text-align: left;\">\n",
              "      <th>Epoch</th>\n",
              "      <th>Training Loss</th>\n",
              "      <th>Validation Loss</th>\n",
              "      <th>Accuracy</th>\n",
              "      <th>F1</th>\n",
              "    </tr>\n",
              "  </thead>\n",
              "  <tbody>\n",
              "    <tr>\n",
              "      <td>1</td>\n",
              "      <td>0.463900</td>\n",
              "      <td>0.988635</td>\n",
              "      <td>0.694053</td>\n",
              "      <td>0.705166</td>\n",
              "    </tr>\n",
              "    <tr>\n",
              "      <td>2</td>\n",
              "      <td>0.214800</td>\n",
              "      <td>1.189188</td>\n",
              "      <td>0.718571</td>\n",
              "      <td>0.721264</td>\n",
              "    </tr>\n",
              "    <tr>\n",
              "      <td>3</td>\n",
              "      <td>0.143700</td>\n",
              "      <td>1.446853</td>\n",
              "      <td>0.718571</td>\n",
              "      <td>0.719940</td>\n",
              "    </tr>\n",
              "  </tbody>\n",
              "</table><p>"
            ],
            "text/plain": [
              "<IPython.core.display.HTML object>"
            ]
          },
          "metadata": {},
          "output_type": "display_data"
        },
        {
          "metadata": {
            "tags": null
          },
          "name": "stdout",
          "output_type": "stream",
          "text": [
            "\n",
            "Training model on Dataset 2...\n"
          ]
        },
        {
          "metadata": {
            "tags": null
          },
          "name": "stderr",
          "output_type": "stream",
          "text": [
            "Some weights of DistilBertForSequenceClassification were not initialized from the model checkpoint at distilbert-base-uncased and are newly initialized: ['classifier.bias', 'classifier.weight', 'pre_classifier.bias', 'pre_classifier.weight']\n",
            "You should probably TRAIN this model on a down-stream task to be able to use it for predictions and inference.\n",
            "/usr/local/lib/python3.10/dist-packages/transformers/training_args.py:1568: FutureWarning: `evaluation_strategy` is deprecated and will be removed in version 4.46 of 🤗 Transformers. Use `eval_strategy` instead\n",
            "  warnings.warn(\n",
            "<ipython-input-20-81d5fcada657>:15: FutureWarning: `tokenizer` is deprecated and will be removed in version 5.0.0 for `Trainer.__init__`. Use `processing_class` instead.\n",
            "  trainer = Trainer(\n"
          ]
        },
        {
          "data": {
            "text/html": [
              "\n",
              "    <div>\n",
              "      \n",
              "      <progress value='5373' max='6033' style='width:300px; height:20px; vertical-align: middle;'></progress>\n",
              "      [5373/6033 11:41 < 01:26, 7.66 it/s, Epoch 2.67/3]\n",
              "    </div>\n",
              "    <table border=\"1\" class=\"dataframe\">\n",
              "  <thead>\n",
              " <tr style=\"text-align: left;\">\n",
              "      <th>Epoch</th>\n",
              "      <th>Training Loss</th>\n",
              "      <th>Validation Loss</th>\n",
              "      <th>Accuracy</th>\n",
              "      <th>F1</th>\n",
              "    </tr>\n",
              "  </thead>\n",
              "  <tbody>\n",
              "    <tr>\n",
              "      <td>1</td>\n",
              "      <td>0.163400</td>\n",
              "      <td>0.246431</td>\n",
              "      <td>0.932000</td>\n",
              "      <td>0.933762</td>\n",
              "    </tr>\n",
              "    <tr>\n",
              "      <td>2</td>\n",
              "      <td>0.095100</td>\n",
              "      <td>0.243689</td>\n",
              "      <td>0.938000</td>\n",
              "      <td>0.939047</td>\n",
              "    </tr>\n",
              "  </tbody>\n",
              "</table><p>"
            ],
            "text/plain": [
              "<IPython.core.display.HTML object>"
            ]
          },
          "metadata": {},
          "output_type": "display_data"
        },
        {
          "output_type": "display_data",
          "data": {
            "text/plain": [
              "<IPython.core.display.HTML object>"
            ],
            "text/html": [
              "\n",
              "    <div>\n",
              "      \n",
              "      <progress value='6033' max='6033' style='width:300px; height:20px; vertical-align: middle;'></progress>\n",
              "      [6033/6033 13:17, Epoch 3/3]\n",
              "    </div>\n",
              "    <table border=\"1\" class=\"dataframe\">\n",
              "  <thead>\n",
              " <tr style=\"text-align: left;\">\n",
              "      <th>Epoch</th>\n",
              "      <th>Training Loss</th>\n",
              "      <th>Validation Loss</th>\n",
              "      <th>Accuracy</th>\n",
              "      <th>F1</th>\n",
              "    </tr>\n",
              "  </thead>\n",
              "  <tbody>\n",
              "    <tr>\n",
              "      <td>1</td>\n",
              "      <td>0.163400</td>\n",
              "      <td>0.246431</td>\n",
              "      <td>0.932000</td>\n",
              "      <td>0.933762</td>\n",
              "    </tr>\n",
              "    <tr>\n",
              "      <td>2</td>\n",
              "      <td>0.095100</td>\n",
              "      <td>0.243689</td>\n",
              "      <td>0.938000</td>\n",
              "      <td>0.939047</td>\n",
              "    </tr>\n",
              "    <tr>\n",
              "      <td>3</td>\n",
              "      <td>0.053300</td>\n",
              "      <td>0.247008</td>\n",
              "      <td>0.936500</td>\n",
              "      <td>0.937093</td>\n",
              "    </tr>\n",
              "  </tbody>\n",
              "</table><p>"
            ]
          },
          "metadata": {}
        }
      ]
    },
    {
      "cell_type": "markdown",
      "source": [
        "## Evaluation\n",
        "\n",
        "We evaluate the models on their respective test sets using accuracy and F1-score. These metrics provide insight into the model's ability to classify emotions correctly.\n"
      ],
      "metadata": {
        "id": "FYJhwGQep1rW"
      }
    },
    {
      "cell_type": "code",
      "source": [
        "print(\"\\nEvaluating model for Dataset 1...\")\n",
        "results_1 = trainer_1.evaluate(test_ds_1)\n",
        "print(\"Evaluation Results for Dataset 1:\", results_1)\n",
        "\n",
        "print(\"\\nEvaluating model for Dataset 2...\")\n",
        "results_2 = trainer_2.evaluate(test_ds_2)\n",
        "print(\"Evaluation Results for Dataset 2:\", results_2)"
      ],
      "metadata": {
        "colab": {
          "base_uri": "https://localhost:8080/",
          "height": 186
        },
        "id": "rlZ1xPTKp2ZK",
        "outputId": "3a8d2344-adc8-4da1-ecc4-d1d37ce81088"
      },
      "execution_count": 22,
      "outputs": [
        {
          "output_type": "stream",
          "name": "stdout",
          "text": [
            "\n",
            "Evaluating model for Dataset 1...\n"
          ]
        },
        {
          "output_type": "display_data",
          "data": {
            "text/plain": [
              "<IPython.core.display.HTML object>"
            ],
            "text/html": [
              "\n",
              "    <div>\n",
              "      \n",
              "      <progress value='239' max='239' style='width:300px; height:20px; vertical-align: middle;'></progress>\n",
              "      [239/239 00:05]\n",
              "    </div>\n",
              "    "
            ]
          },
          "metadata": {}
        },
        {
          "output_type": "stream",
          "name": "stdout",
          "text": [
            "Evaluation Results for Dataset 1: {'eval_loss': 1.5262902975082397, 'eval_accuracy': 0.712117246794033, 'eval_f1': 0.7125945033445851, 'eval_runtime': 5.4043, 'eval_samples_per_second': 707.035, 'eval_steps_per_second': 44.224, 'epoch': 3.0}\n",
            "\n",
            "Evaluating model for Dataset 2...\n"
          ]
        },
        {
          "output_type": "display_data",
          "data": {
            "text/plain": [
              "<IPython.core.display.HTML object>"
            ],
            "text/html": [
              "\n",
              "    <div>\n",
              "      \n",
              "      <progress value='125' max='125' style='width:300px; height:20px; vertical-align: middle;'></progress>\n",
              "      [125/125 00:03]\n",
              "    </div>\n",
              "    "
            ]
          },
          "metadata": {}
        },
        {
          "output_type": "stream",
          "name": "stdout",
          "text": [
            "Evaluation Results for Dataset 2: {'eval_loss': 0.2870708703994751, 'eval_accuracy': 0.926, 'eval_f1': 0.9271413989329942, 'eval_runtime': 3.8035, 'eval_samples_per_second': 525.826, 'eval_steps_per_second': 32.864, 'epoch': 3.0}\n"
          ]
        }
      ]
    },
    {
      "cell_type": "markdown",
      "source": [
        "## Inference: Using the Trained Model to Predict Emotions\n",
        "\n",
        "Inference refers to the process of utilizing a trained model to make predictions on new, unseen data. In the context of this project, inference involves inputting a text sentence (or multiple sentences) into the fine-tuned model, which then predicts the most likely emotion associated with the input along with a confidence score.\n",
        "\n",
        "### Steps in Inference\n",
        "1. **Tokenization**:\n",
        "   The input sentence is tokenized, which means it is transformed into numerical representations such as input IDs and attention masks. These numerical tokens are what the model processes during inference.\n",
        "   \n",
        "2. **Model Prediction**:\n",
        "   The tokenized input is fed into the fine-tuned model, which processes the input and outputs logits. Logits are raw, unnormalized scores corresponding to each emotion class.\n",
        "   \n",
        "3. **Logit Interpretation**:\n",
        "   The logits are converted into probabilities using the softmax function. The emotion class with the highest probability is selected as the model's prediction. A confidence score (ranging from 0 to 1) is derived for the predicted emotion.\n",
        "\n",
        "### Importance of Inference\n",
        "Inference demonstrates the model's real-world usability. By predicting emotions for new sentences, we validate the model's ability to generalize and provide actionable insights based on textual input.\n",
        "\n",
        "Below, we define an interactive function that allows the user to input sentences and get the predicted emotion and confidence score.\n"
      ],
      "metadata": {
        "id": "4zsDzdO1qSqj"
      }
    },
    {
      "cell_type": "code",
      "source": [
        "\n",
        "# Define the inference function\n",
        "def predict_emotion(text, model, tokenizer, class_labels):\n",
        "    \"\"\"\n",
        "    Predict emotion for a given text using the trained model.\n",
        "\n",
        "    Args:\n",
        "    - text (str): Input sentence to classify.\n",
        "    - model: Trained model for emotion classification.\n",
        "    - tokenizer: Tokenizer used during training.\n",
        "    - class_labels: Class labels for decoding predictions.\n",
        "\n",
        "    Returns:\n",
        "    - emotion_label (str): Predicted emotion label.\n",
        "    - confidence (float): Confidence score of the prediction.\n",
        "    \"\"\"\n",
        "    # Tokenize the input text\n",
        "    inputs = tokenizer(text, return_tensors=\"pt\", padding=True, truncation=True).to(device)\n",
        "\n",
        "    # Get predictions from the fine-tuned model\n",
        "    with torch.no_grad():\n",
        "        outputs = model(**inputs)\n",
        "        logits = outputs.logits\n",
        "        predicted_class = torch.argmax(logits, dim=1).item()\n",
        "\n",
        "    # Convert predicted label to emotion name using the label encoder\n",
        "    emotion_label = class_labels.int2str(predicted_class)\n",
        "    confidence = torch.softmax(logits, dim=1)[0, predicted_class].item()\n",
        "\n",
        "    return emotion_label, confidence\n",
        "\n",
        "\n",
        "# Interactive Inference\n",
        "def interactive_inference(trainer, tokenizer, class_labels):\n",
        "    \"\"\"\n",
        "    Allow the user to input text for emotion prediction.\n",
        "    \"\"\"\n",
        "    model = trainer.model  # Get the model from the trainer\n",
        "    while True:\n",
        "        user_input = input(\"\\nEnter a sentence to classify (or type 'exit' to quit): \")\n",
        "        if user_input.lower() == \"exit\":\n",
        "            print(\"Exiting inference...\")\n",
        "            break\n",
        "        emotion, confidence = predict_emotion(user_input, model, tokenizer, class_labels)\n",
        "        print(f\"Predicted Emotion: {emotion} (Confidence: {confidence:.2f})\")\n",
        "\n",
        "\n",
        "# Perform inference for Dataset 1\n",
        "print(\"\\nInteractive Inference for Dataset 1\")\n",
        "interactive_inference(trainer_1, tokenizer, class_labels)\n",
        "\n",
        "# Perform inference for Dataset 2\n",
        "print(\"\\nInteractive Inference for Dataset 2\")\n",
        "interactive_inference(trainer_2, tokenizer, class_labels)\n"
      ],
      "metadata": {
        "colab": {
          "base_uri": "https://localhost:8080/"
        },
        "id": "hEY-uj5_qTT0",
        "outputId": "a62cf1c4-33d8-442b-af36-ecb2065b1099"
      },
      "execution_count": 23,
      "outputs": [
        {
          "output_type": "stream",
          "name": "stdout",
          "text": [
            "\n",
            "Interactive Inference for Dataset 1\n",
            "\n",
            "Enter a sentence to classify (or type 'exit' to quit): hi i love you\n",
            "Predicted Emotion: love (Confidence: 1.00)\n",
            "\n",
            "Enter a sentence to classify (or type 'exit' to quit): i am scared\n",
            "Predicted Emotion: fear (Confidence: 1.00)\n",
            "\n",
            "Enter a sentence to classify (or type 'exit' to quit): i woke up relaxed today\n",
            "Predicted Emotion: surprise (Confidence: 0.62)\n",
            "\n",
            "Enter a sentence to classify (or type 'exit' to quit): i am so grateful you exist\n",
            "Predicted Emotion: joy (Confidence: 1.00)\n",
            "\n",
            "Enter a sentence to classify (or type 'exit' to quit): this homework is amazing\n",
            "Predicted Emotion: joy (Confidence: 1.00)\n",
            "\n",
            "Enter a sentence to classify (or type 'exit' to quit): what the fuck do you think you are doing\n",
            "Predicted Emotion: anger (Confidence: 1.00)\n",
            "\n",
            "Enter a sentence to classify (or type 'exit' to quit): i feel like shit \n",
            "Predicted Emotion: anger (Confidence: 0.99)\n",
            "\n",
            "Enter a sentence to classify (or type 'exit' to quit): i want to cry\n",
            "Predicted Emotion: sadness (Confidence: 1.00)\n",
            "\n",
            "Enter a sentence to classify (or type 'exit' to quit): why is the weather so gloomy i feel like crying\n",
            "Predicted Emotion: sadness (Confidence: 1.00)\n",
            "\n",
            "Enter a sentence to classify (or type 'exit' to quit): exit\n",
            "Exiting inference...\n",
            "\n",
            "Interactive Inference for Dataset 2\n",
            "\n",
            "Enter a sentence to classify (or type 'exit' to quit): you look gorgeous today\n",
            "Predicted Emotion: joy (Confidence: 1.00)\n",
            "\n",
            "Enter a sentence to classify (or type 'exit' to quit): i want to slap you\n",
            "Predicted Emotion: anger (Confidence: 1.00)\n",
            "\n",
            "Enter a sentence to classify (or type 'exit' to quit): i want to hug you and kiss you\n",
            "Predicted Emotion: love (Confidence: 1.00)\n",
            "\n",
            "Enter a sentence to classify (or type 'exit' to quit): i am so scared \n",
            "Predicted Emotion: fear (Confidence: 1.00)\n",
            "\n",
            "Enter a sentence to classify (or type 'exit' to quit): shocked indeed\n",
            "Predicted Emotion: surprise (Confidence: 1.00)\n",
            "\n",
            "Enter a sentence to classify (or type 'exit' to quit): exit\n",
            "Exiting inference...\n"
          ]
        }
      ]
    },
    {
      "cell_type": "markdown",
      "source": [
        "## Comparative Analysis with Traditional Machine Learning Models\n",
        "\n",
        "In this section, we compare the performance of our fine-tuned DistilBERT model with traditional machine learning algorithms such as Logistic Regression, Support Vector Machines (SVM), and Random Forest.\n",
        "\n",
        "This comparison allows us to:\n",
        "\n",
        "1. Understand the advantages and limitations of deep learning models like DistilBERT compared to traditional algorithms.\n",
        "2. Assess how simpler models perform on the same datasets.\n",
        "3. Highlight the importance of leveraging pre-trained transformers for text classification tasks.\n",
        "\n",
        "The metrics for comparison include:\n",
        "\n",
        "- Accuracy: The percentage of correctly classified instances.\n",
        "- F1-Score: The weighted average of precision and recall, balancing false positives and false negatives.\n",
        "- Training Time: The time taken to train each model.\n",
        "\n",
        "We plot these metrics in a bar chart to visualize the comparative performance across models."
      ],
      "metadata": {
        "id": "UZkaFvyvvoEn"
      }
    },
    {
      "cell_type": "code",
      "source": [
        "from sklearn.feature_extraction.text import TfidfVectorizer\n",
        "from sklearn.linear_model import LogisticRegression\n",
        "from sklearn.svm import SVC\n",
        "from sklearn.ensemble import RandomForestClassifier, GradientBoostingClassifier\n",
        "from sklearn.metrics import accuracy_score, f1_score\n",
        "import time\n",
        "import matplotlib.pyplot as plt\n",
        "import numpy as np\n",
        "\n",
        "# Step 1: Prepare the datasets for traditional models\n",
        "def prepare_traditional_data(train_dataset, val_dataset):\n",
        "    \"\"\"\n",
        "    Prepare the text data for traditional machine learning models using TF-IDF.\n",
        "    Ensures consistent feature space between training and validation datasets.\n",
        "    \"\"\"\n",
        "    vectorizer = TfidfVectorizer(max_features=5000)\n",
        "    X_train = vectorizer.fit_transform(train_dataset[\"text\"])\n",
        "    X_val = vectorizer.transform(val_dataset[\"text\"])\n",
        "    y_train = train_dataset[\"label\"]\n",
        "    y_val = val_dataset[\"label\"]\n",
        "    return X_train, y_train, X_val, y_val\n",
        "\n",
        "# Dataset 1: GoEmotions\n",
        "X_train_1, y_train_1, X_val_1, y_val_1 = prepare_traditional_data(train_1_cleaned, val_1_cleaned)\n",
        "\n",
        "# Dataset 2: Custom Dataset\n",
        "X_train_2, y_train_2, X_val_2, y_val_2 = prepare_traditional_data(train_2_cleaned, val_2_cleaned)\n",
        "\n",
        "# Step 2: Define Traditional Models\n",
        "models = {\n",
        "    \"Logistic Regression\": LogisticRegression(max_iter=1000),\n",
        "    \"Random Forest\": RandomForestClassifier(n_estimators=100, random_state=42),\n",
        "    \"Gradient Boosting\": GradientBoostingClassifier(n_estimators=100, random_state=42),\n",
        "}\n",
        "\n",
        "# Step 3: Train and Evaluate Models\n",
        "def evaluate_models(X_train, y_train, X_val, y_val, dataset_name):\n",
        "    \"\"\"\n",
        "    Train and evaluate traditional machine learning models.\n",
        "    \"\"\"\n",
        "    results = {}\n",
        "    for model_name, model in models.items():\n",
        "        print(f\"Training {model_name} on {dataset_name}...\")\n",
        "        start_time = time.time()\n",
        "        model.fit(X_train, y_train)\n",
        "        training_time = time.time() - start_time\n",
        "        y_pred = model.predict(X_val)\n",
        "        acc = accuracy_score(y_val, y_pred)\n",
        "        f1 = f1_score(y_val, y_pred, average=\"weighted\")\n",
        "        results[model_name] = {\"accuracy\": acc, \"f1_score\": f1, \"training_time\": training_time}\n",
        "        print(f\"{model_name}: Accuracy={acc:.2f}, F1-Score={f1:.2f}, Training Time={training_time:.2f}s\")\n",
        "    return results\n",
        "\n",
        "# Evaluate on Dataset 1\n",
        "results_1 = evaluate_models(X_train_1, y_train_1, X_val_1, y_val_1, \"Dataset 1 (GoEmotions)\")\n",
        "\n",
        "# Evaluate on Dataset 2\n",
        "results_2 = evaluate_models(X_train_2, y_train_2, X_val_2, y_val_2, \"Dataset 2 (Custom Dataset)\")\n",
        "\n",
        "# Combine results with DistilBERT performance\n",
        "def add_distilbert_results(trainer, dataset_name, results_dict, val_dataset):\n",
        "    \"\"\"\n",
        "    Add the DistilBERT model results to the comparison.\n",
        "    \"\"\"\n",
        "    print(f\"Evaluating DistilBERT on {dataset_name}...\")\n",
        "    start_time = time.time()\n",
        "    distilbert_results = trainer.evaluate(val_dataset)\n",
        "    training_time = time.time() - start_time\n",
        "    accuracy = distilbert_results[\"eval_accuracy\"]\n",
        "    f1_score_value = distilbert_results[\"eval_f1\"]\n",
        "    results_dict[\"DistilBERT\"] = {\n",
        "        \"accuracy\": accuracy,\n",
        "        \"f1_score\": f1_score_value,\n",
        "        \"training_time\": training_time,\n",
        "    }\n",
        "    print(f\"DistilBERT: Accuracy={accuracy:.2f}, F1-Score={f1_score_value:.2f}, Training Time={training_time:.2f}s\")\n",
        "\n",
        "# Add DistilBERT results to Dataset 1 and Dataset 2\n",
        "add_distilbert_results(trainer_1, \"Dataset 1 (GoEmotions)\", results_1, val_ds_1)\n",
        "add_distilbert_results(trainer_2, \"Dataset 2 (Custom Dataset)\", results_2, val_ds_2)\n",
        "\n",
        "# Step 4: Plot Results\n",
        "def plot_comparative_results(results, title):\n",
        "    \"\"\"\n",
        "    Plot a bar chart comparing the performance of models.\n",
        "    \"\"\"\n",
        "    models = list(results.keys())\n",
        "    accuracies = [results[model][\"accuracy\"] for model in models]\n",
        "    f1_scores = [results[model][\"f1_score\"] for model in models]\n",
        "    training_times = [results[model][\"training_time\"] for model in models]\n",
        "\n",
        "    # Plot Accuracy and F1-Score\n",
        "    x = np.arange(len(models))\n",
        "    width = 0.35\n",
        "    fig, ax1 = plt.subplots(figsize=(12, 6))\n",
        "\n",
        "    ax1.bar(x - width/2, accuracies, width, label=\"Accuracy\", color=\"skyblue\")\n",
        "    ax1.bar(x + width/2, f1_scores, width, label=\"F1-Score\", color=\"orange\")\n",
        "    ax1.set_xlabel(\"Models\")\n",
        "    ax1.set_ylabel(\"Score\")\n",
        "    ax1.set_title(title)\n",
        "    ax1.set_xticks(x)\n",
        "    ax1.set_xticklabels(models)\n",
        "    ax1.legend()\n",
        "\n",
        "    # Plot Training Times\n",
        "    ax2 = ax1.twinx()\n",
        "    ax2.plot(x, training_times, label=\"Training Time (s)\", color=\"green\", marker=\"o\")\n",
        "    ax2.set_ylabel(\"Training Time (seconds)\")\n",
        "    ax2.legend(loc=\"upper right\")\n",
        "\n",
        "    plt.show()\n",
        "\n",
        "# Plot results for Dataset 1\n",
        "plot_comparative_results(results_1, \"Model Comparison for Dataset 1 (GoEmotions)\")\n",
        "\n",
        "# Plot results for Dataset 2\n",
        "plot_comparative_results(results_2, \"Model Comparison for Dataset 2 (Custom Dataset)\")\n"
      ],
      "metadata": {
        "colab": {
          "base_uri": "https://localhost:8080/",
          "height": 1000
        },
        "id": "VrGFTHHiv8nI",
        "outputId": "9867c317-5e2b-44e5-c7b1-40a008f4e1fd"
      },
      "execution_count": 25,
      "outputs": [
        {
          "output_type": "stream",
          "name": "stdout",
          "text": [
            "Training Logistic Regression on Dataset 1 (GoEmotions)...\n",
            "Logistic Regression: Accuracy=0.61, F1-Score=0.62, Training Time=24.28s\n",
            "Training Random Forest on Dataset 1 (GoEmotions)...\n",
            "Random Forest: Accuracy=0.62, F1-Score=0.61, Training Time=145.13s\n",
            "Training Gradient Boosting on Dataset 1 (GoEmotions)...\n",
            "Gradient Boosting: Accuracy=0.57, F1-Score=0.59, Training Time=179.75s\n",
            "Training Logistic Regression on Dataset 2 (Custom Dataset)...\n",
            "Logistic Regression: Accuracy=0.89, F1-Score=0.89, Training Time=4.05s\n",
            "Training Random Forest on Dataset 2 (Custom Dataset)...\n",
            "Random Forest: Accuracy=0.88, F1-Score=0.88, Training Time=35.02s\n",
            "Training Gradient Boosting on Dataset 2 (Custom Dataset)...\n",
            "Gradient Boosting: Accuracy=0.86, F1-Score=0.86, Training Time=98.31s\n",
            "Evaluating DistilBERT on Dataset 1 (GoEmotions)...\n"
          ]
        },
        {
          "output_type": "display_data",
          "data": {
            "text/plain": [
              "<IPython.core.display.HTML object>"
            ],
            "text/html": [
              "\n",
              "    <div>\n",
              "      \n",
              "      <progress value='479' max='239' style='width:300px; height:20px; vertical-align: middle;'></progress>\n",
              "      [239/239 23:07]\n",
              "    </div>\n",
              "    "
            ]
          },
          "metadata": {}
        },
        {
          "output_type": "stream",
          "name": "stdout",
          "text": [
            "DistilBERT: Accuracy=0.72, F1-Score=0.72, Training Time=4.95s\n",
            "Evaluating DistilBERT on Dataset 2 (Custom Dataset)...\n"
          ]
        },
        {
          "output_type": "display_data",
          "data": {
            "text/plain": [
              "<IPython.core.display.HTML object>"
            ],
            "text/html": [
              "\n",
              "    <div>\n",
              "      \n",
              "      <progress value='250' max='125' style='width:300px; height:20px; vertical-align: middle;'></progress>\n",
              "      [125/125 23:06]\n",
              "    </div>\n",
              "    "
            ]
          },
          "metadata": {}
        },
        {
          "output_type": "stream",
          "name": "stdout",
          "text": [
            "DistilBERT: Accuracy=0.94, F1-Score=0.94, Training Time=4.05s\n"
          ]
        },
        {
          "output_type": "display_data",
          "data": {
            "text/plain": [
              "<Figure size 1200x600 with 2 Axes>"
            ],
            "image/png": "[encoded data removed]"
          },
          "metadata": {}
        },
        {
          "output_type": "display_data",
          "data": {
            "text/plain": [
              "<Figure size 1200x600 with 2 Axes>"
            ],
            "image/png": "[encoded data removed]"
          },
          "metadata": {}
        }
      ]
    }
  ]
}